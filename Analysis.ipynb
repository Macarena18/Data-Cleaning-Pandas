{
 "cells": [
  {
   "cell_type": "code",
   "execution_count": 1,
   "metadata": {},
   "outputs": [],
   "source": [
    "import pandas as pd\n",
    "import re\n",
    "import numpy as np\n",
    "import matplotlib.pyplot as plt"
   ]
  },
  {
   "cell_type": "code",
   "execution_count": 2,
   "metadata": {},
   "outputs": [
    {
     "name": "stdout",
     "output_type": "stream",
     "text": [
      "(5341, 22)\n"
     ]
    },
    {
     "data": {
      "text/html": [
       "<div>\n",
       "<style scoped>\n",
       "    .dataframe tbody tr th:only-of-type {\n",
       "        vertical-align: middle;\n",
       "    }\n",
       "\n",
       "    .dataframe tbody tr th {\n",
       "        vertical-align: top;\n",
       "    }\n",
       "\n",
       "    .dataframe thead th {\n",
       "        text-align: right;\n",
       "    }\n",
       "</style>\n",
       "<table border=\"1\" class=\"dataframe\">\n",
       "  <thead>\n",
       "    <tr style=\"text-align: right;\">\n",
       "      <th></th>\n",
       "      <th>Unnamed: 0</th>\n",
       "      <th>Case Number</th>\n",
       "      <th>Date</th>\n",
       "      <th>Year</th>\n",
       "      <th>Time</th>\n",
       "      <th>Day</th>\n",
       "      <th>Month</th>\n",
       "      <th>Year2</th>\n",
       "      <th>Decade</th>\n",
       "      <th>Seasonality</th>\n",
       "      <th>...</th>\n",
       "      <th>Location</th>\n",
       "      <th>Type</th>\n",
       "      <th>Activity</th>\n",
       "      <th>Injury</th>\n",
       "      <th>Fatal (Y/N)</th>\n",
       "      <th>Species</th>\n",
       "      <th>Name</th>\n",
       "      <th>Sex</th>\n",
       "      <th>Age</th>\n",
       "      <th>Age Category</th>\n",
       "    </tr>\n",
       "  </thead>\n",
       "  <tbody>\n",
       "    <tr>\n",
       "      <th>0</th>\n",
       "      <td>0</td>\n",
       "      <td>2018.06.25</td>\n",
       "      <td>25-Jun-2018</td>\n",
       "      <td>2018.0</td>\n",
       "      <td>18h00</td>\n",
       "      <td>25</td>\n",
       "      <td>6</td>\n",
       "      <td>2018</td>\n",
       "      <td>2015</td>\n",
       "      <td>Summer</td>\n",
       "      <td>...</td>\n",
       "      <td>Oceanside, San Diego County</td>\n",
       "      <td>Boating</td>\n",
       "      <td>Paddling</td>\n",
       "      <td>Injury</td>\n",
       "      <td>N</td>\n",
       "      <td>White shark</td>\n",
       "      <td>Julie Wolfe</td>\n",
       "      <td>F</td>\n",
       "      <td>57</td>\n",
       "      <td>Adults</td>\n",
       "    </tr>\n",
       "    <tr>\n",
       "      <th>1</th>\n",
       "      <td>1</td>\n",
       "      <td>2018.06.18</td>\n",
       "      <td>18-Jun-2018</td>\n",
       "      <td>2018.0</td>\n",
       "      <td>14h00  -15h00</td>\n",
       "      <td>18</td>\n",
       "      <td>6</td>\n",
       "      <td>2018</td>\n",
       "      <td>2015</td>\n",
       "      <td>Summer</td>\n",
       "      <td>...</td>\n",
       "      <td>St. Simon Island, Glynn County</td>\n",
       "      <td>Unprovoked</td>\n",
       "      <td>Standing</td>\n",
       "      <td>Injury</td>\n",
       "      <td>N</td>\n",
       "      <td>Unknown</td>\n",
       "      <td>Adyson McNeely</td>\n",
       "      <td>F</td>\n",
       "      <td>11</td>\n",
       "      <td>Teens</td>\n",
       "    </tr>\n",
       "    <tr>\n",
       "      <th>2</th>\n",
       "      <td>2</td>\n",
       "      <td>2018.06.09</td>\n",
       "      <td>09-Jun-2018</td>\n",
       "      <td>2018.0</td>\n",
       "      <td>07h45</td>\n",
       "      <td>9</td>\n",
       "      <td>6</td>\n",
       "      <td>2018</td>\n",
       "      <td>2015</td>\n",
       "      <td>Summer</td>\n",
       "      <td>...</td>\n",
       "      <td>Habush, Oahu</td>\n",
       "      <td>Invalid</td>\n",
       "      <td>Surfing</td>\n",
       "      <td>Injury</td>\n",
       "      <td>N</td>\n",
       "      <td>Unknown</td>\n",
       "      <td>John Denges</td>\n",
       "      <td>M</td>\n",
       "      <td>48</td>\n",
       "      <td>Adults</td>\n",
       "    </tr>\n",
       "    <tr>\n",
       "      <th>3</th>\n",
       "      <td>3</td>\n",
       "      <td>2018.06.08</td>\n",
       "      <td>08-Jun-2018</td>\n",
       "      <td>2018.0</td>\n",
       "      <td>Notime</td>\n",
       "      <td>8</td>\n",
       "      <td>6</td>\n",
       "      <td>2018</td>\n",
       "      <td>2015</td>\n",
       "      <td>Summer</td>\n",
       "      <td>...</td>\n",
       "      <td>Arrawarra Headland</td>\n",
       "      <td>Unprovoked</td>\n",
       "      <td>Surfing</td>\n",
       "      <td>Injury</td>\n",
       "      <td>N</td>\n",
       "      <td>2 m shark</td>\n",
       "      <td>male</td>\n",
       "      <td>M</td>\n",
       "      <td>0</td>\n",
       "      <td>Unknown</td>\n",
       "    </tr>\n",
       "    <tr>\n",
       "      <th>4</th>\n",
       "      <td>4</td>\n",
       "      <td>2018.06.04</td>\n",
       "      <td>04-Jun-2018</td>\n",
       "      <td>2018.0</td>\n",
       "      <td>Notime</td>\n",
       "      <td>4</td>\n",
       "      <td>6</td>\n",
       "      <td>2018</td>\n",
       "      <td>2015</td>\n",
       "      <td>Summer</td>\n",
       "      <td>...</td>\n",
       "      <td>La Ticla</td>\n",
       "      <td>Provoked</td>\n",
       "      <td>Free diving</td>\n",
       "      <td>Injury</td>\n",
       "      <td>N</td>\n",
       "      <td>Tiger shark, 3m</td>\n",
       "      <td>Gustavo Ramos</td>\n",
       "      <td>M</td>\n",
       "      <td>0</td>\n",
       "      <td>Unknown</td>\n",
       "    </tr>\n",
       "  </tbody>\n",
       "</table>\n",
       "<p>5 rows × 22 columns</p>\n",
       "</div>"
      ],
      "text/plain": [
       "   Unnamed: 0 Case Number         Date    Year           Time  Day  Month  \\\n",
       "0           0  2018.06.25  25-Jun-2018  2018.0          18h00   25      6   \n",
       "1           1  2018.06.18  18-Jun-2018  2018.0  14h00  -15h00   18      6   \n",
       "2           2  2018.06.09  09-Jun-2018  2018.0          07h45    9      6   \n",
       "3           3  2018.06.08  08-Jun-2018  2018.0         Notime    8      6   \n",
       "4           4  2018.06.04  04-Jun-2018  2018.0         Notime    4      6   \n",
       "\n",
       "   Year2  Decade Seasonality  ...                        Location        Type  \\\n",
       "0   2018    2015      Summer  ...     Oceanside, San Diego County     Boating   \n",
       "1   2018    2015      Summer  ...  St. Simon Island, Glynn County  Unprovoked   \n",
       "2   2018    2015      Summer  ...                    Habush, Oahu     Invalid   \n",
       "3   2018    2015      Summer  ...              Arrawarra Headland  Unprovoked   \n",
       "4   2018    2015      Summer  ...                        La Ticla    Provoked   \n",
       "\n",
       "      Activity  Injury Fatal (Y/N)          Species             Name Sex Age  \\\n",
       "0     Paddling  Injury           N      White shark      Julie Wolfe   F  57   \n",
       "1     Standing  Injury           N          Unknown  Adyson McNeely    F  11   \n",
       "2      Surfing  Injury           N          Unknown      John Denges   M  48   \n",
       "3      Surfing  Injury           N        2 m shark             male   M   0   \n",
       "4  Free diving  Injury           N  Tiger shark, 3m   Gustavo Ramos    M   0   \n",
       "\n",
       "  Age Category  \n",
       "0       Adults  \n",
       "1        Teens  \n",
       "2       Adults  \n",
       "3      Unknown  \n",
       "4      Unknown  \n",
       "\n",
       "[5 rows x 22 columns]"
      ]
     },
     "execution_count": 2,
     "metadata": {},
     "output_type": "execute_result"
    }
   ],
   "source": [
    "data=pd.read_csv('data/attacks_limpio.csv') #Incluir encoding='latin-1'o UTF-8/16 para que pueda abrir el archivo\n",
    "print(data.shape) # ver cuantas filas/columnas tiene el archivo\n",
    "data.head()"
   ]
  },
  {
   "cell_type": "code",
   "execution_count": 3,
   "metadata": {},
   "outputs": [
    {
     "data": {
      "text/plain": [
       "Index(['Unnamed: 0', 'Case Number', 'Date', 'Year', 'Time', 'Day', 'Month',\n",
       "       'Year2', 'Decade', 'Seasonality', 'Country', 'Area', 'Location', 'Type',\n",
       "       'Activity', 'Injury', 'Fatal (Y/N)', 'Species', 'Name', 'Sex', 'Age',\n",
       "       'Age Category'],\n",
       "      dtype='object')"
      ]
     },
     "execution_count": 3,
     "metadata": {},
     "output_type": "execute_result"
    }
   ],
   "source": [
    "data.columns"
   ]
  },
  {
   "cell_type": "code",
   "execution_count": 4,
   "metadata": {},
   "outputs": [
    {
     "data": {
      "text/plain": [
       "0    4287\n",
       "1    1054\n",
       "Name: Fatal(%), dtype: int64"
      ]
     },
     "execution_count": 4,
     "metadata": {},
     "output_type": "execute_result"
    }
   ],
   "source": [
    "def fatality(value):\n",
    "    if value == \"N\":\n",
    "        return \"0\" \n",
    "    elif value == \"Y\":\n",
    "        return \"1\"\n",
    "    else:\n",
    "        return \"0\"\n",
    "\n",
    "data[\"Fatal(%)\"] = data[\"Fatal (Y/N)\"].apply(fatality)\n",
    "data[\"Fatal(%)\"]=data[\"Fatal(%)\"].astype(\"int\")\n",
    "data[\"Fatal(%)\"].value_counts()"
   ]
  },
  {
   "cell_type": "code",
   "execution_count": 5,
   "metadata": {},
   "outputs": [
    {
     "data": {
      "text/html": [
       "<div>\n",
       "<style scoped>\n",
       "    .dataframe tbody tr th:only-of-type {\n",
       "        vertical-align: middle;\n",
       "    }\n",
       "\n",
       "    .dataframe tbody tr th {\n",
       "        vertical-align: top;\n",
       "    }\n",
       "\n",
       "    .dataframe thead th {\n",
       "        text-align: right;\n",
       "    }\n",
       "</style>\n",
       "<table border=\"1\" class=\"dataframe\">\n",
       "  <thead>\n",
       "    <tr style=\"text-align: right;\">\n",
       "      <th></th>\n",
       "      <th></th>\n",
       "      <th>Fatal(%)</th>\n",
       "    </tr>\n",
       "    <tr>\n",
       "      <th>Seasonality</th>\n",
       "      <th>Decade</th>\n",
       "      <th></th>\n",
       "    </tr>\n",
       "  </thead>\n",
       "  <tbody>\n",
       "    <tr>\n",
       "      <th rowspan=\"10\" valign=\"top\">Autumn</th>\n",
       "      <th>1970</th>\n",
       "      <td>0.317972</td>\n",
       "    </tr>\n",
       "    <tr>\n",
       "      <th>1975</th>\n",
       "      <td>0.060606</td>\n",
       "    </tr>\n",
       "    <tr>\n",
       "      <th>1980</th>\n",
       "      <td>0.055556</td>\n",
       "    </tr>\n",
       "    <tr>\n",
       "      <th>1985</th>\n",
       "      <td>0.111111</td>\n",
       "    </tr>\n",
       "    <tr>\n",
       "      <th>1990</th>\n",
       "      <td>0.157143</td>\n",
       "    </tr>\n",
       "    <tr>\n",
       "      <th>1995</th>\n",
       "      <td>0.104478</td>\n",
       "    </tr>\n",
       "    <tr>\n",
       "      <th>2000</th>\n",
       "      <td>0.104839</td>\n",
       "    </tr>\n",
       "    <tr>\n",
       "      <th>2005</th>\n",
       "      <td>0.064516</td>\n",
       "    </tr>\n",
       "    <tr>\n",
       "      <th>2010</th>\n",
       "      <td>0.111888</td>\n",
       "    </tr>\n",
       "    <tr>\n",
       "      <th>2015</th>\n",
       "      <td>0.052632</td>\n",
       "    </tr>\n",
       "    <tr>\n",
       "      <th rowspan=\"10\" valign=\"top\">Spring</th>\n",
       "      <th>1970</th>\n",
       "      <td>0.308068</td>\n",
       "    </tr>\n",
       "    <tr>\n",
       "      <th>1975</th>\n",
       "      <td>0.074074</td>\n",
       "    </tr>\n",
       "    <tr>\n",
       "      <th>1980</th>\n",
       "      <td>0.189189</td>\n",
       "    </tr>\n",
       "    <tr>\n",
       "      <th>1985</th>\n",
       "      <td>0.151515</td>\n",
       "    </tr>\n",
       "    <tr>\n",
       "      <th>1990</th>\n",
       "      <td>0.119048</td>\n",
       "    </tr>\n",
       "    <tr>\n",
       "      <th>1995</th>\n",
       "      <td>0.200000</td>\n",
       "    </tr>\n",
       "    <tr>\n",
       "      <th>2000</th>\n",
       "      <td>0.090000</td>\n",
       "    </tr>\n",
       "    <tr>\n",
       "      <th>2005</th>\n",
       "      <td>0.096774</td>\n",
       "    </tr>\n",
       "    <tr>\n",
       "      <th>2010</th>\n",
       "      <td>0.075630</td>\n",
       "    </tr>\n",
       "    <tr>\n",
       "      <th>2015</th>\n",
       "      <td>0.083333</td>\n",
       "    </tr>\n",
       "    <tr>\n",
       "      <th rowspan=\"10\" valign=\"top\">Summer</th>\n",
       "      <th>1970</th>\n",
       "      <td>0.320273</td>\n",
       "    </tr>\n",
       "    <tr>\n",
       "      <th>1975</th>\n",
       "      <td>0.140000</td>\n",
       "    </tr>\n",
       "    <tr>\n",
       "      <th>1980</th>\n",
       "      <td>0.111111</td>\n",
       "    </tr>\n",
       "    <tr>\n",
       "      <th>1985</th>\n",
       "      <td>0.023256</td>\n",
       "    </tr>\n",
       "    <tr>\n",
       "      <th>1990</th>\n",
       "      <td>0.194444</td>\n",
       "    </tr>\n",
       "    <tr>\n",
       "      <th>1995</th>\n",
       "      <td>0.132653</td>\n",
       "    </tr>\n",
       "    <tr>\n",
       "      <th>2000</th>\n",
       "      <td>0.041667</td>\n",
       "    </tr>\n",
       "    <tr>\n",
       "      <th>2005</th>\n",
       "      <td>0.061350</td>\n",
       "    </tr>\n",
       "    <tr>\n",
       "      <th>2010</th>\n",
       "      <td>0.085227</td>\n",
       "    </tr>\n",
       "    <tr>\n",
       "      <th>2015</th>\n",
       "      <td>0.016667</td>\n",
       "    </tr>\n",
       "    <tr>\n",
       "      <th rowspan=\"9\" valign=\"top\">Unknown</th>\n",
       "      <th>1970</th>\n",
       "      <td>0.371025</td>\n",
       "    </tr>\n",
       "    <tr>\n",
       "      <th>1975</th>\n",
       "      <td>0.400000</td>\n",
       "    </tr>\n",
       "    <tr>\n",
       "      <th>1980</th>\n",
       "      <td>0.222222</td>\n",
       "    </tr>\n",
       "    <tr>\n",
       "      <th>1985</th>\n",
       "      <td>0.142857</td>\n",
       "    </tr>\n",
       "    <tr>\n",
       "      <th>1990</th>\n",
       "      <td>0.000000</td>\n",
       "    </tr>\n",
       "    <tr>\n",
       "      <th>1995</th>\n",
       "      <td>0.166667</td>\n",
       "    </tr>\n",
       "    <tr>\n",
       "      <th>2000</th>\n",
       "      <td>0.000000</td>\n",
       "    </tr>\n",
       "    <tr>\n",
       "      <th>2005</th>\n",
       "      <td>0.000000</td>\n",
       "    </tr>\n",
       "    <tr>\n",
       "      <th>2015</th>\n",
       "      <td>0.000000</td>\n",
       "    </tr>\n",
       "    <tr>\n",
       "      <th rowspan=\"10\" valign=\"top\">Winter</th>\n",
       "      <th>1970</th>\n",
       "      <td>0.343590</td>\n",
       "    </tr>\n",
       "    <tr>\n",
       "      <th>1975</th>\n",
       "      <td>0.235294</td>\n",
       "    </tr>\n",
       "    <tr>\n",
       "      <th>1980</th>\n",
       "      <td>0.166667</td>\n",
       "    </tr>\n",
       "    <tr>\n",
       "      <th>1985</th>\n",
       "      <td>0.073171</td>\n",
       "    </tr>\n",
       "    <tr>\n",
       "      <th>1990</th>\n",
       "      <td>0.153846</td>\n",
       "    </tr>\n",
       "    <tr>\n",
       "      <th>1995</th>\n",
       "      <td>0.181818</td>\n",
       "    </tr>\n",
       "    <tr>\n",
       "      <th>2000</th>\n",
       "      <td>0.133333</td>\n",
       "    </tr>\n",
       "    <tr>\n",
       "      <th>2005</th>\n",
       "      <td>0.108696</td>\n",
       "    </tr>\n",
       "    <tr>\n",
       "      <th>2010</th>\n",
       "      <td>0.110236</td>\n",
       "    </tr>\n",
       "    <tr>\n",
       "      <th>2015</th>\n",
       "      <td>0.070707</td>\n",
       "    </tr>\n",
       "  </tbody>\n",
       "</table>\n",
       "</div>"
      ],
      "text/plain": [
       "                    Fatal(%)\n",
       "Seasonality Decade          \n",
       "Autumn      1970    0.317972\n",
       "            1975    0.060606\n",
       "            1980    0.055556\n",
       "            1985    0.111111\n",
       "            1990    0.157143\n",
       "            1995    0.104478\n",
       "            2000    0.104839\n",
       "            2005    0.064516\n",
       "            2010    0.111888\n",
       "            2015    0.052632\n",
       "Spring      1970    0.308068\n",
       "            1975    0.074074\n",
       "            1980    0.189189\n",
       "            1985    0.151515\n",
       "            1990    0.119048\n",
       "            1995    0.200000\n",
       "            2000    0.090000\n",
       "            2005    0.096774\n",
       "            2010    0.075630\n",
       "            2015    0.083333\n",
       "Summer      1970    0.320273\n",
       "            1975    0.140000\n",
       "            1980    0.111111\n",
       "            1985    0.023256\n",
       "            1990    0.194444\n",
       "            1995    0.132653\n",
       "            2000    0.041667\n",
       "            2005    0.061350\n",
       "            2010    0.085227\n",
       "            2015    0.016667\n",
       "Unknown     1970    0.371025\n",
       "            1975    0.400000\n",
       "            1980    0.222222\n",
       "            1985    0.142857\n",
       "            1990    0.000000\n",
       "            1995    0.166667\n",
       "            2000    0.000000\n",
       "            2005    0.000000\n",
       "            2015    0.000000\n",
       "Winter      1970    0.343590\n",
       "            1975    0.235294\n",
       "            1980    0.166667\n",
       "            1985    0.073171\n",
       "            1990    0.153846\n",
       "            1995    0.181818\n",
       "            2000    0.133333\n",
       "            2005    0.108696\n",
       "            2010    0.110236\n",
       "            2015    0.070707"
      ]
     },
     "execution_count": 5,
     "metadata": {},
     "output_type": "execute_result"
    }
   ],
   "source": [
    "data.groupby([\"Seasonality\",\"Decade\"]).agg({\"Fatal(%)\":\"mean\"})"
   ]
  },
  {
   "cell_type": "code",
   "execution_count": 6,
   "metadata": {},
   "outputs": [
    {
     "data": {
      "text/html": [
       "<div>\n",
       "<style scoped>\n",
       "    .dataframe tbody tr th:only-of-type {\n",
       "        vertical-align: middle;\n",
       "    }\n",
       "\n",
       "    .dataframe tbody tr th {\n",
       "        vertical-align: top;\n",
       "    }\n",
       "\n",
       "    .dataframe thead tr th {\n",
       "        text-align: left;\n",
       "    }\n",
       "\n",
       "    .dataframe thead tr:last-of-type th {\n",
       "        text-align: right;\n",
       "    }\n",
       "</style>\n",
       "<table border=\"1\" class=\"dataframe\">\n",
       "  <thead>\n",
       "    <tr>\n",
       "      <th></th>\n",
       "      <th colspan=\"2\" halign=\"left\">Fatal(%)</th>\n",
       "    </tr>\n",
       "    <tr>\n",
       "      <th></th>\n",
       "      <th>mean</th>\n",
       "      <th>sum</th>\n",
       "    </tr>\n",
       "    <tr>\n",
       "      <th>Age Category</th>\n",
       "      <th></th>\n",
       "      <th></th>\n",
       "    </tr>\n",
       "  </thead>\n",
       "  <tbody>\n",
       "    <tr>\n",
       "      <th>Adults</th>\n",
       "      <td>0.151732</td>\n",
       "      <td>127</td>\n",
       "    </tr>\n",
       "    <tr>\n",
       "      <th>Elderly</th>\n",
       "      <td>0.296296</td>\n",
       "      <td>16</td>\n",
       "    </tr>\n",
       "    <tr>\n",
       "      <th>Teens</th>\n",
       "      <td>0.179254</td>\n",
       "      <td>197</td>\n",
       "    </tr>\n",
       "    <tr>\n",
       "      <th>Unknown</th>\n",
       "      <td>0.232411</td>\n",
       "      <td>479</td>\n",
       "    </tr>\n",
       "    <tr>\n",
       "      <th>Young</th>\n",
       "      <td>0.182171</td>\n",
       "      <td>235</td>\n",
       "    </tr>\n",
       "  </tbody>\n",
       "</table>\n",
       "</div>"
      ],
      "text/plain": [
       "              Fatal(%)     \n",
       "                  mean  sum\n",
       "Age Category               \n",
       "Adults        0.151732  127\n",
       "Elderly       0.296296   16\n",
       "Teens         0.179254  197\n",
       "Unknown       0.232411  479\n",
       "Young         0.182171  235"
      ]
     },
     "execution_count": 6,
     "metadata": {},
     "output_type": "execute_result"
    },
    {
     "data": {
      "image/png": "[encoded data removed]",
      "text/plain": [
       "<Figure size 432x288 with 2 Axes>"
      ]
     },
     "metadata": {
      "needs_background": "light"
     },
     "output_type": "display_data"
    }
   ],
   "source": [
    "age_fatal=data.groupby(\"Age Category\").agg({\"Fatal(%)\":[\"mean\",\"sum\"]})\n",
    "age_fatal.plot.bar(rot=0, subplots=True)\n",
    "age_fatal"
   ]
  },
  {
   "cell_type": "code",
   "execution_count": 7,
   "metadata": {},
   "outputs": [
    {
     "data": {
      "text/html": [
       "<div>\n",
       "<style scoped>\n",
       "    .dataframe tbody tr th:only-of-type {\n",
       "        vertical-align: middle;\n",
       "    }\n",
       "\n",
       "    .dataframe tbody tr th {\n",
       "        vertical-align: top;\n",
       "    }\n",
       "\n",
       "    .dataframe thead th {\n",
       "        text-align: right;\n",
       "    }\n",
       "</style>\n",
       "<table border=\"1\" class=\"dataframe\">\n",
       "  <thead>\n",
       "    <tr style=\"text-align: right;\">\n",
       "      <th></th>\n",
       "      <th>Fatal(%)</th>\n",
       "    </tr>\n",
       "    <tr>\n",
       "      <th>Seasonality</th>\n",
       "      <th></th>\n",
       "    </tr>\n",
       "  </thead>\n",
       "  <tbody>\n",
       "    <tr>\n",
       "      <th>Winter</th>\n",
       "      <td>273</td>\n",
       "    </tr>\n",
       "    <tr>\n",
       "      <th>Summer</th>\n",
       "      <td>262</td>\n",
       "    </tr>\n",
       "    <tr>\n",
       "      <th>Autumn</th>\n",
       "      <td>210</td>\n",
       "    </tr>\n",
       "    <tr>\n",
       "      <th>Spring</th>\n",
       "      <td>198</td>\n",
       "    </tr>\n",
       "    <tr>\n",
       "      <th>Unknown</th>\n",
       "      <td>111</td>\n",
       "    </tr>\n",
       "  </tbody>\n",
       "</table>\n",
       "</div>"
      ],
      "text/plain": [
       "             Fatal(%)\n",
       "Seasonality          \n",
       "Winter            273\n",
       "Summer            262\n",
       "Autumn            210\n",
       "Spring            198\n",
       "Unknown           111"
      ]
     },
     "execution_count": 7,
     "metadata": {},
     "output_type": "execute_result"
    },
    {
     "data": {
      "image/png": "[encoded data removed]",
      "text/plain": [
       "<Figure size 432x288 with 1 Axes>"
      ]
     },
     "metadata": {
      "needs_background": "light"
     },
     "output_type": "display_data"
    }
   ],
   "source": [
    "season_fatal=data.groupby('Seasonality').agg({'Fatal(%)':'sum'})\n",
    "s_plot=season_fatal.sort_values(\"Fatal(%)\",ascending=False).head(20)\n",
    "s_plot.plot.bar()\n",
    "s_plot"
   ]
  },
  {
   "cell_type": "code",
   "execution_count": 8,
   "metadata": {},
   "outputs": [
    {
     "data": {
      "text/html": [
       "<div>\n",
       "<style scoped>\n",
       "    .dataframe tbody tr th:only-of-type {\n",
       "        vertical-align: middle;\n",
       "    }\n",
       "\n",
       "    .dataframe tbody tr th {\n",
       "        vertical-align: top;\n",
       "    }\n",
       "\n",
       "    .dataframe thead th {\n",
       "        text-align: right;\n",
       "    }\n",
       "</style>\n",
       "<table border=\"1\" class=\"dataframe\">\n",
       "  <thead>\n",
       "    <tr style=\"text-align: right;\">\n",
       "      <th></th>\n",
       "      <th>Fatal(%)</th>\n",
       "    </tr>\n",
       "    <tr>\n",
       "      <th>Country</th>\n",
       "      <th></th>\n",
       "    </tr>\n",
       "  </thead>\n",
       "  <tbody>\n",
       "    <tr>\n",
       "      <th>Australia</th>\n",
       "      <td>263</td>\n",
       "    </tr>\n",
       "    <tr>\n",
       "      <th>Usa</th>\n",
       "      <td>168</td>\n",
       "    </tr>\n",
       "    <tr>\n",
       "      <th>South Africa</th>\n",
       "      <td>104</td>\n",
       "    </tr>\n",
       "    <tr>\n",
       "      <th>Papua New Guinea</th>\n",
       "      <td>46</td>\n",
       "    </tr>\n",
       "    <tr>\n",
       "      <th>Mexico</th>\n",
       "      <td>34</td>\n",
       "    </tr>\n",
       "    <tr>\n",
       "      <th>Brazil</th>\n",
       "      <td>28</td>\n",
       "    </tr>\n",
       "    <tr>\n",
       "      <th>New Zealand</th>\n",
       "      <td>22</td>\n",
       "    </tr>\n",
       "    <tr>\n",
       "      <th>Reunion</th>\n",
       "      <td>21</td>\n",
       "    </tr>\n",
       "    <tr>\n",
       "      <th>Cuba</th>\n",
       "      <td>20</td>\n",
       "    </tr>\n",
       "    <tr>\n",
       "      <th>Philippines</th>\n",
       "      <td>16</td>\n",
       "    </tr>\n",
       "    <tr>\n",
       "      <th>Panama</th>\n",
       "      <td>16</td>\n",
       "    </tr>\n",
       "    <tr>\n",
       "      <th>Mozambique</th>\n",
       "      <td>16</td>\n",
       "    </tr>\n",
       "    <tr>\n",
       "      <th>India</th>\n",
       "      <td>15</td>\n",
       "    </tr>\n",
       "    <tr>\n",
       "      <th>New Caledonia</th>\n",
       "      <td>15</td>\n",
       "    </tr>\n",
       "    <tr>\n",
       "      <th>Fiji</th>\n",
       "      <td>14</td>\n",
       "    </tr>\n",
       "    <tr>\n",
       "      <th>Croatia</th>\n",
       "      <td>13</td>\n",
       "    </tr>\n",
       "    <tr>\n",
       "      <th>Hong Kong</th>\n",
       "      <td>11</td>\n",
       "    </tr>\n",
       "    <tr>\n",
       "      <th>Italy</th>\n",
       "      <td>11</td>\n",
       "    </tr>\n",
       "    <tr>\n",
       "      <th>Iran</th>\n",
       "      <td>10</td>\n",
       "    </tr>\n",
       "    <tr>\n",
       "      <th>Greece</th>\n",
       "      <td>9</td>\n",
       "    </tr>\n",
       "  </tbody>\n",
       "</table>\n",
       "</div>"
      ],
      "text/plain": [
       "                  Fatal(%)\n",
       "Country                   \n",
       "Australia              263\n",
       "Usa                    168\n",
       "South Africa           104\n",
       "Papua New Guinea        46\n",
       "Mexico                  34\n",
       "Brazil                  28\n",
       "New Zealand             22\n",
       "Reunion                 21\n",
       "Cuba                    20\n",
       "Philippines             16\n",
       "Panama                  16\n",
       "Mozambique              16\n",
       "India                   15\n",
       "New Caledonia           15\n",
       "Fiji                    14\n",
       "Croatia                 13\n",
       "Hong Kong               11\n",
       "Italy                   11\n",
       "Iran                    10\n",
       "Greece                   9"
      ]
     },
     "execution_count": 8,
     "metadata": {},
     "output_type": "execute_result"
    },
    {
     "data": {
      "image/png": "[encoded data removed]",
      "text/plain": [
       "<Figure size 432x288 with 1 Axes>"
      ]
     },
     "metadata": {
      "needs_background": "light"
     },
     "output_type": "display_data"
    }
   ],
   "source": [
    "country_fatal=data.groupby('Country').agg({'Fatal(%)':'sum'})\n",
    "cf_plot=country_fatal.sort_values(\"Fatal(%)\",ascending=False).head(20)\n",
    "cf_plot.plot.bar()\n",
    "cf_plot"
   ]
  },
  {
   "cell_type": "code",
   "execution_count": 9,
   "metadata": {},
   "outputs": [],
   "source": [
    "#calcular probabilidad de sobrevivir de una mujer y un hombre \n",
    "#crear una nueva columna en relacion a : columna Sex (h/m) y columna fatal sea 1\n",
    "\n",
    "def fatality_f(rowSeries):\n",
    "    if rowSeries[\"Fatal(%)\"]==1 and rowSeries[\"Sex\"]==\"F\":\n",
    "        return 1\n",
    "    elif rowSeries[\"Fatal(%)\"]==0 and rowSeries[\"Sex\"]==\"F\":\n",
    "        return 0\n",
    "    else:\n",
    "        return 0\n",
    "data[\"Fatality female\"] = data[[\"Fatal(%)\",\"Sex\"]].apply(fatality_f, axis=1)"
   ]
  },
  {
   "cell_type": "code",
   "execution_count": 10,
   "metadata": {},
   "outputs": [
    {
     "data": {
      "text/plain": [
       "0    5247\n",
       "1      94\n",
       "Name: Fatality female, dtype: int64"
      ]
     },
     "execution_count": 10,
     "metadata": {},
     "output_type": "execute_result"
    }
   ],
   "source": [
    "data[\"Fatality female\"].value_counts()"
   ]
  },
  {
   "cell_type": "code",
   "execution_count": 11,
   "metadata": {},
   "outputs": [],
   "source": [
    "def fatality_m(rowSeries):\n",
    "    if rowSeries[\"Fatal(%)\"]==1 and rowSeries[\"Sex\"]==\"M\":\n",
    "        return 1\n",
    "    elif rowSeries[\"Fatal(%)\"]==0 and rowSeries[\"Sex\"]==\"M\":\n",
    "        return 0\n",
    "    else:\n",
    "        return 0\n",
    "data[\"Fatality male\"] = data[[\"Fatal(%)\",\"Sex\"]].apply(fatality_m, axis=1)"
   ]
  },
  {
   "cell_type": "code",
   "execution_count": 12,
   "metadata": {},
   "outputs": [
    {
     "data": {
      "text/plain": [
       "0    4398\n",
       "1     943\n",
       "Name: Fatality male, dtype: int64"
      ]
     },
     "execution_count": 12,
     "metadata": {},
     "output_type": "execute_result"
    }
   ],
   "source": [
    "data[\"Fatality male\"].value_counts()"
   ]
  },
  {
   "cell_type": "code",
   "execution_count": 13,
   "metadata": {},
   "outputs": [
    {
     "data": {
      "text/plain": [
       "<matplotlib.axes._subplots.AxesSubplot at 0x112f43610>"
      ]
     },
     "execution_count": 13,
     "metadata": {},
     "output_type": "execute_result"
    },
    {
     "data": {
      "image/png": "[encoded data removed]",
      "text/plain": [
       "<Figure size 432x288 with 1 Axes>"
      ]
     },
     "metadata": {
      "needs_background": "light"
     },
     "output_type": "display_data"
    }
   ],
   "source": [
    "data.groupby(\"Age Category\").agg({\n",
    "        \"Fatality female\":\"mean\", \n",
    "        \"Fatality male\":\"mean\"\n",
    "}).plot.bar(rot=0)"
   ]
  },
  {
   "cell_type": "code",
   "execution_count": 14,
   "metadata": {},
   "outputs": [],
   "source": [
    "def fatality_teens(row):\n",
    "    if row[\"Fatal(%)\"]==1 and row[\"Age Category\"]==\"Teens\":\n",
    "        return 1\n",
    "    elif row[\"Fatal(%)\"]==0 and row[\"Age Category\"]==\"Teens\":\n",
    "        return 0\n",
    "    else:\n",
    "        return 0\n",
    "data[\"Fatality teens\"] = data[[\"Fatal(%)\",\"Age Category\"]].apply(fatality_teens, axis=1)"
   ]
  },
  {
   "cell_type": "code",
   "execution_count": 15,
   "metadata": {},
   "outputs": [
    {
     "data": {
      "text/plain": [
       "0    5144\n",
       "1     197\n",
       "Name: Fatality teens, dtype: int64"
      ]
     },
     "execution_count": 15,
     "metadata": {},
     "output_type": "execute_result"
    }
   ],
   "source": [
    "data[\"Fatality teens\"].value_counts()"
   ]
  },
  {
   "cell_type": "code",
   "execution_count": 16,
   "metadata": {},
   "outputs": [],
   "source": [
    "def fatality_young(row):\n",
    "    if row[\"Fatal(%)\"]==1 and row[\"Age Category\"]==\"Young\":\n",
    "        return 1\n",
    "    elif row[\"Fatal(%)\"]==0 and row[\"Age Category\"]==\"Young\":\n",
    "        return 0\n",
    "    else:\n",
    "        return 0\n",
    "data[\"Fatality young\"] = data[[\"Fatal(%)\",\"Age Category\"]].apply(fatality_young, axis=1)"
   ]
  },
  {
   "cell_type": "code",
   "execution_count": 17,
   "metadata": {},
   "outputs": [
    {
     "data": {
      "text/plain": [
       "0    5106\n",
       "1     235\n",
       "Name: Fatality young, dtype: int64"
      ]
     },
     "execution_count": 17,
     "metadata": {},
     "output_type": "execute_result"
    }
   ],
   "source": [
    "data[\"Fatality young\"].value_counts()"
   ]
  },
  {
   "cell_type": "code",
   "execution_count": 18,
   "metadata": {},
   "outputs": [
    {
     "data": {
      "text/plain": [
       "0    5214\n",
       "1     127\n",
       "Name: Fatality adults, dtype: int64"
      ]
     },
     "execution_count": 18,
     "metadata": {},
     "output_type": "execute_result"
    }
   ],
   "source": [
    "def fatality_adults(row):\n",
    "    if row[\"Fatal(%)\"]==1 and row[\"Age Category\"]==\"Adults\":\n",
    "        return 1\n",
    "    elif row[\"Fatal(%)\"]==0 and row[\"Age Category\"]==\"Adults\":\n",
    "        return 0\n",
    "    else:\n",
    "        return 0\n",
    "data[\"Fatality adults\"] = data[[\"Fatal(%)\",\"Age Category\"]].apply(fatality_adults, axis=1)\n",
    "data[\"Fatality adults\"].value_counts()"
   ]
  },
  {
   "cell_type": "code",
   "execution_count": 19,
   "metadata": {},
   "outputs": [
    {
     "data": {
      "text/plain": [
       "0    5325\n",
       "1      16\n",
       "Name: Fatality elderly, dtype: int64"
      ]
     },
     "execution_count": 19,
     "metadata": {},
     "output_type": "execute_result"
    }
   ],
   "source": [
    "def fatality_elderly(row):\n",
    "    if row[\"Fatal(%)\"]==1 and row[\"Age Category\"]==\"Elderly\":\n",
    "        return 1\n",
    "    elif row[\"Fatal(%)\"]==0 and row[\"Age Category\"]==\"Elderly\":\n",
    "        return 0\n",
    "    else:\n",
    "        return 0\n",
    "data[\"Fatality elderly\"] = data[[\"Fatal(%)\",\"Age Category\"]].apply(fatality_elderly, axis=1)\n",
    "data[\"Fatality elderly\"].value_counts()"
   ]
  },
  {
   "cell_type": "code",
   "execution_count": 20,
   "metadata": {},
   "outputs": [
    {
     "data": {
      "text/plain": [
       "0    5079\n",
       "1     262\n",
       "Name: Fatality summer, dtype: int64"
      ]
     },
     "execution_count": 20,
     "metadata": {},
     "output_type": "execute_result"
    }
   ],
   "source": [
    "def fatality_summer(row):\n",
    "    if row[\"Fatal(%)\"]==1 and row[\"Seasonality\"]==\"Summer\":\n",
    "        return 1\n",
    "    elif row[\"Fatal(%)\"]==0 and row[\"Seasonality\"]==\"Summer\":\n",
    "        return 0\n",
    "    else:\n",
    "        return 0\n",
    "data[\"Fatality summer\"] = data[[\"Fatal(%)\",\"Seasonality\"]].apply(fatality_summer, axis=1)\n",
    "data[\"Fatality summer\"].value_counts()"
   ]
  },
  {
   "cell_type": "code",
   "execution_count": 21,
   "metadata": {},
   "outputs": [
    {
     "data": {
      "text/plain": [
       "0    5131\n",
       "1     210\n",
       "Name: Fatality autumn, dtype: int64"
      ]
     },
     "execution_count": 21,
     "metadata": {},
     "output_type": "execute_result"
    }
   ],
   "source": [
    "def fatality_autumn(row):\n",
    "    if row[\"Fatal(%)\"]==1 and row[\"Seasonality\"]==\"Autumn\":\n",
    "        return 1\n",
    "    elif row[\"Fatal(%)\"]==0 and row[\"Seasonality\"]==\"Autumn\":\n",
    "        return 0\n",
    "    else:\n",
    "        return 0\n",
    "data[\"Fatality autumn\"] = data[[\"Fatal(%)\",\"Seasonality\"]].apply(fatality_autumn, axis=1)\n",
    "data[\"Fatality autumn\"].value_counts()"
   ]
  },
  {
   "cell_type": "code",
   "execution_count": 22,
   "metadata": {},
   "outputs": [
    {
     "data": {
      "text/plain": [
       "0    5068\n",
       "1     273\n",
       "Name: Fatality winter, dtype: int64"
      ]
     },
     "execution_count": 22,
     "metadata": {},
     "output_type": "execute_result"
    }
   ],
   "source": [
    "def fatality_winter(row):\n",
    "    if row[\"Fatal(%)\"]==1 and row[\"Seasonality\"]==\"Winter\":\n",
    "        return 1\n",
    "    elif row[\"Fatal(%)\"]==0 and row[\"Seasonality\"]==\"Winter\":\n",
    "        return 0\n",
    "    else:\n",
    "        return 0\n",
    "data[\"Fatality winter\"] = data[[\"Fatal(%)\",\"Seasonality\"]].apply(fatality_winter, axis=1)\n",
    "data[\"Fatality winter\"].value_counts()"
   ]
  },
  {
   "cell_type": "code",
   "execution_count": 23,
   "metadata": {},
   "outputs": [
    {
     "data": {
      "text/plain": [
       "0    5143\n",
       "1     198\n",
       "Name: Fatality spring, dtype: int64"
      ]
     },
     "execution_count": 23,
     "metadata": {},
     "output_type": "execute_result"
    }
   ],
   "source": [
    "def fatality_spring(row):\n",
    "    if row[\"Fatal(%)\"]==1 and row[\"Seasonality\"]==\"Spring\":\n",
    "        return 1\n",
    "    elif row[\"Fatal(%)\"]==0 and row[\"Seasonality\"]==\"Spring\":\n",
    "        return 0\n",
    "    else:\n",
    "        return 0\n",
    "data[\"Fatality spring\"] = data[[\"Fatal(%)\",\"Seasonality\"]].apply(fatality_spring, axis=1)\n",
    "data[\"Fatality spring\"].value_counts()"
   ]
  },
  {
   "cell_type": "code",
   "execution_count": 24,
   "metadata": {},
   "outputs": [
    {
     "data": {
      "text/plain": [
       "<matplotlib.axes._subplots.AxesSubplot at 0x112e807d0>"
      ]
     },
     "execution_count": 24,
     "metadata": {},
     "output_type": "execute_result"
    },
    {
     "data": {
      "image/png": "[encoded data removed]",
      "text/plain": [
       "<Figure size 432x288 with 1 Axes>"
      ]
     },
     "metadata": {
      "needs_background": "light"
     },
     "output_type": "display_data"
    }
   ],
   "source": [
    "data.groupby(\"Sex\").agg({\n",
    "        \"Fatality young\":\"mean\", \n",
    "        \"Fatality teens\":\"mean\",\n",
    "        \"Fatality adults\":\"mean\",\n",
    "        \"Fatality elderly\":\"mean\",\n",
    "}).plot.bar()"
   ]
  },
  {
   "cell_type": "code",
   "execution_count": 25,
   "metadata": {},
   "outputs": [
    {
     "data": {
      "text/plain": [
       "Index(['Unnamed: 0', 'Case Number', 'Date', 'Year', 'Time', 'Day', 'Month',\n",
       "       'Year2', 'Decade', 'Seasonality', 'Country', 'Area', 'Location', 'Type',\n",
       "       'Activity', 'Injury', 'Fatal (Y/N)', 'Species', 'Name', 'Sex', 'Age',\n",
       "       'Age Category', 'Fatal(%)', 'Fatality female', 'Fatality male',\n",
       "       'Fatality teens', 'Fatality young', 'Fatality adults',\n",
       "       'Fatality elderly', 'Fatality summer', 'Fatality autumn',\n",
       "       'Fatality winter', 'Fatality spring'],\n",
       "      dtype='object')"
      ]
     },
     "execution_count": 25,
     "metadata": {},
     "output_type": "execute_result"
    }
   ],
   "source": [
    "data.columns"
   ]
  },
  {
   "cell_type": "code",
   "execution_count": 26,
   "metadata": {},
   "outputs": [
    {
     "data": {
      "text/plain": [
       "5341"
      ]
     },
     "execution_count": 26,
     "metadata": {},
     "output_type": "execute_result"
    }
   ],
   "source": [
    "#numero total de atacados\n",
    "totalnumber_attacks=data[\"Name\"].count()\n",
    "totalnumber_attacks"
   ]
  },
  {
   "cell_type": "code",
   "execution_count": 27,
   "metadata": {},
   "outputs": [
    {
     "data": {
      "text/plain": [
       "1054"
      ]
     },
     "execution_count": 27,
     "metadata": {},
     "output_type": "execute_result"
    }
   ],
   "source": [
    "#numero total de muertos\n",
    "totalnumber_fatal=(data[\"Fatal (Y/N)\"]==\"Y\").sum()\n",
    "totalnumber_fatal"
   ]
  },
  {
   "cell_type": "code",
   "execution_count": 28,
   "metadata": {},
   "outputs": [
    {
     "data": {
      "text/plain": [
       "19.73"
      ]
     },
     "execution_count": 28,
     "metadata": {},
     "output_type": "execute_result"
    }
   ],
   "source": [
    "#Porcetaje de atacados que mueren\n",
    "fatal_attack_percent=round((totalnumber_fatal/totalnumber_attacks)*100,2)\n",
    "fatal_attack_percent"
   ]
  },
  {
   "cell_type": "code",
   "execution_count": 29,
   "metadata": {},
   "outputs": [
    {
     "data": {
      "text/plain": [
       "(10.99, 84.89)"
      ]
     },
     "execution_count": 29,
     "metadata": {},
     "output_type": "execute_result"
    }
   ],
   "source": [
    "#Numero de atacados por sexo\n",
    "\n",
    "totalnumber_female=(data[\"Sex\"]==\"F\").sum()\n",
    "totalnumber_male=(data[\"Sex\"]==\"M\").sum()\n",
    "attack_female_percent=round((totalnumber_female/totalnumber_attacks)*100,2)\n",
    "attack_male_percent=round((totalnumber_male/totalnumber_attacks)*100,2)\n",
    "attack_female_percent,attack_male_percent"
   ]
  },
  {
   "cell_type": "code",
   "execution_count": 30,
   "metadata": {},
   "outputs": [
    {
     "data": {
      "text/plain": [
       "(8.92, 89.47)"
      ]
     },
     "execution_count": 30,
     "metadata": {},
     "output_type": "execute_result"
    }
   ],
   "source": [
    "#Numero de muertos por sexo\n",
    "fatal_female=(data[\"Fatality female\"]==1).sum()\n",
    "fatal_male=(data[\"Fatality male\"]==1).sum()\n",
    "fatal_female_percent=round((fatal_female/totalnumber_fatal)*100,2)\n",
    "fatal_male_percent=round((fatal_male/totalnumber_fatal)*100,2)\n",
    "fatal_female_percent,fatal_male_percent"
   ]
  },
  {
   "cell_type": "code",
   "execution_count": 31,
   "metadata": {},
   "outputs": [
    {
     "data": {
      "text/plain": [
       "(16.01, 20.8)"
      ]
     },
     "execution_count": 31,
     "metadata": {},
     "output_type": "execute_result"
    }
   ],
   "source": [
    "#Probabilidad de morir de un atacado por sexo\n",
    "female_prob_fatal=round((fatal_female/totalnumber_female)*100,2)\n",
    "male_prob_fatal=round((fatal_male/totalnumber_male)*100,2)\n",
    "female_prob_fatal,male_prob_fatal"
   ]
  },
  {
   "cell_type": "code",
   "execution_count": 32,
   "metadata": {},
   "outputs": [
    {
     "name": "stdout",
     "output_type": "stream",
     "text": [
      "20.58 24.15 15.67 1.01\n",
      "18.69 22.3 12.05 1.52\n",
      "17.93 18.22 15.17 29.63\n"
     ]
    }
   ],
   "source": [
    "# Numero de atacados por edad\n",
    "totalnumber_teens=(data[\"Age Category\"]==\"Teens\").sum()\n",
    "totalnumber_young=(data[\"Age Category\"]==\"Young\").sum()\n",
    "totalnumber_adult=(data[\"Age Category\"]==\"Adults\").sum()\n",
    "totalnumber_elderly=(data[\"Age Category\"]==\"Elderly\").sum()\n",
    "attack_teens_percent=round((totalnumber_teens/totalnumber_attacks)*100,2)\n",
    "attack_young_percent=round((totalnumber_young/totalnumber_attacks)*100,2)\n",
    "attack_adult_percent=round((totalnumber_adult/totalnumber_attacks)*100,2)\n",
    "attack_elderly_percent=round((totalnumber_elderly/totalnumber_attacks)*100,2)\n",
    "print(attack_teens_percent,attack_young_percent,attack_adult_percent,attack_elderly_percent)\n",
    "\n",
    "#Numero de muertos por edad\n",
    "fatal_teens=(data[\"Fatality teens\"]==1).sum()\n",
    "fatal_young=(data[\"Fatality young\"]==1).sum()\n",
    "fatal_adult=(data[\"Fatality adults\"]==1).sum()\n",
    "fatal_elderly=(data[\"Fatality elderly\"]==1).sum()\n",
    "fatal_teens_percent=round((fatal_teens/totalnumber_fatal)*100,2)\n",
    "fatal_young_percent=round((fatal_young/totalnumber_fatal)*100,2)\n",
    "fatal_adult_percent=round((fatal_adult/totalnumber_fatal)*100,2)\n",
    "fatal_elderly_percent=round((fatal_elderly/totalnumber_fatal)*100,2)\n",
    "print(fatal_teens_percent,fatal_young_percent,fatal_adult_percent,fatal_elderly_percent)\n",
    "\n",
    "#Probabilidad de morir de un atacado por edad\n",
    "teens_prob_fatal=round((fatal_teens/totalnumber_teens)*100,2)\n",
    "young_prob_fatal=round((fatal_young/totalnumber_young)*100,2)\n",
    "adult_prob_fatal=round((fatal_adult/totalnumber_adult)*100,2)\n",
    "elderly_prob_fatal=round((fatal_elderly/totalnumber_elderly)*100,2)\n",
    "print(teens_prob_fatal,young_prob_fatal,adult_prob_fatal,elderly_prob_fatal)\n"
   ]
  },
  {
   "cell_type": "code",
   "execution_count": 41,
   "metadata": {},
   "outputs": [
    {
     "data": {
      "text/plain": [
       "Surfing            1225\n",
       "Fishing            1075\n",
       "Swimming           1027\n",
       "Unknown             158\n",
       "Wading              146\n",
       "Bathing             143\n",
       "Diving              101\n",
       "Standing             98\n",
       "Snorkeling           84\n",
       "Scuba diving         75\n",
       "Body boarding        60\n",
       "Kayaking             33\n",
       "Treading water       32\n",
       "Boogie boarding      29\n",
       "Free diving          27\n",
       "Pearl diving         20\n",
       "Walking              17\n",
       "Boogie Boarding      16\n",
       "Floating             14\n",
       "Fell overboard       14\n",
       "Name: Activity, dtype: int64"
      ]
     },
     "execution_count": 41,
     "metadata": {},
     "output_type": "execute_result"
    }
   ],
   "source": [
    "data[\"Activity\"].value_counts().head(20)"
   ]
  },
  {
   "cell_type": "code",
   "execution_count": 51,
   "metadata": {},
   "outputs": [
    {
     "data": {
      "text/html": [
       "<div>\n",
       "<style scoped>\n",
       "    .dataframe tbody tr th:only-of-type {\n",
       "        vertical-align: middle;\n",
       "    }\n",
       "\n",
       "    .dataframe tbody tr th {\n",
       "        vertical-align: top;\n",
       "    }\n",
       "\n",
       "    .dataframe thead th {\n",
       "        text-align: right;\n",
       "    }\n",
       "</style>\n",
       "<table border=\"1\" class=\"dataframe\">\n",
       "  <thead>\n",
       "    <tr style=\"text-align: right;\">\n",
       "      <th></th>\n",
       "      <th>Fatal(%)</th>\n",
       "    </tr>\n",
       "    <tr>\n",
       "      <th>Activity</th>\n",
       "      <th></th>\n",
       "    </tr>\n",
       "  </thead>\n",
       "  <tbody>\n",
       "    <tr>\n",
       "      <th>Swimming</th>\n",
       "      <td>367</td>\n",
       "    </tr>\n",
       "    <tr>\n",
       "      <th>Fishing</th>\n",
       "      <td>139</td>\n",
       "    </tr>\n",
       "    <tr>\n",
       "      <th>Surfing</th>\n",
       "      <td>70</td>\n",
       "    </tr>\n",
       "    <tr>\n",
       "      <th>Bathing</th>\n",
       "      <td>60</td>\n",
       "    </tr>\n",
       "    <tr>\n",
       "      <th>Unknown</th>\n",
       "      <td>27</td>\n",
       "    </tr>\n",
       "    <tr>\n",
       "      <th>Diving</th>\n",
       "      <td>17</td>\n",
       "    </tr>\n",
       "    <tr>\n",
       "      <th>Standing</th>\n",
       "      <td>16</td>\n",
       "    </tr>\n",
       "    <tr>\n",
       "      <th>Body boarding</th>\n",
       "      <td>14</td>\n",
       "    </tr>\n",
       "    <tr>\n",
       "      <th>Scuba diving</th>\n",
       "      <td>13</td>\n",
       "    </tr>\n",
       "    <tr>\n",
       "      <th>Wading</th>\n",
       "      <td>12</td>\n",
       "    </tr>\n",
       "    <tr>\n",
       "      <th>Fell overboard</th>\n",
       "      <td>11</td>\n",
       "    </tr>\n",
       "    <tr>\n",
       "      <th>Snorkeling</th>\n",
       "      <td>10</td>\n",
       "    </tr>\n",
       "    <tr>\n",
       "      <th>Treading water</th>\n",
       "      <td>7</td>\n",
       "    </tr>\n",
       "    <tr>\n",
       "      <th>Fell into the water</th>\n",
       "      <td>7</td>\n",
       "    </tr>\n",
       "    <tr>\n",
       "      <th>Pearl diving</th>\n",
       "      <td>5</td>\n",
       "    </tr>\n",
       "    <tr>\n",
       "      <th>Boat swamped</th>\n",
       "      <td>4</td>\n",
       "    </tr>\n",
       "    <tr>\n",
       "      <th>Free diving</th>\n",
       "      <td>4</td>\n",
       "    </tr>\n",
       "    <tr>\n",
       "      <th>Diving for abalone</th>\n",
       "      <td>3</td>\n",
       "    </tr>\n",
       "    <tr>\n",
       "      <th>Sponge diving</th>\n",
       "      <td>3</td>\n",
       "    </tr>\n",
       "    <tr>\n",
       "      <th>Knocked overboard</th>\n",
       "      <td>3</td>\n",
       "    </tr>\n",
       "  </tbody>\n",
       "</table>\n",
       "</div>"
      ],
      "text/plain": [
       "                     Fatal(%)\n",
       "Activity                     \n",
       "Swimming                  367\n",
       "Fishing                   139\n",
       "Surfing                    70\n",
       "Bathing                    60\n",
       "Unknown                    27\n",
       "Diving                     17\n",
       "Standing                   16\n",
       "Body boarding              14\n",
       "Scuba diving               13\n",
       "Wading                     12\n",
       "Fell overboard             11\n",
       "Snorkeling                 10\n",
       "Treading water              7\n",
       "Fell into the water         7\n",
       "Pearl diving                5\n",
       "Boat swamped                4\n",
       "Free diving                 4\n",
       "Diving for abalone          3\n",
       "Sponge diving               3\n",
       "Knocked overboard           3"
      ]
     },
     "execution_count": 51,
     "metadata": {},
     "output_type": "execute_result"
    },
    {
     "data": {
      "image/png": "[encoded data removed]",
      "text/plain": [
       "<Figure size 432x288 with 1 Axes>"
      ]
     },
     "metadata": {
      "needs_background": "light"
     },
     "output_type": "display_data"
    }
   ],
   "source": [
    "activity_fatal=data.groupby('Activity').agg({'Fatal(%)':\"sum\"})\n",
    "af_plot=activity_fatal.sort_values(\"Fatal(%)\",ascending=False).head(20)\n",
    "af_plot.plot.bar()\n",
    "af_plot"
   ]
  },
  {
   "cell_type": "code",
   "execution_count": null,
   "metadata": {},
   "outputs": [],
   "source": [
    "marcas_caras = [\"Audi\",\"Mercedes\",\"Ferrari\"]\n",
    "data[\"Surfing Fatal\"] = np.where((data[\"Activity\"]==\"Surfing\"),(data[\"Fatal(%)\"]==1), True, False)"
   ]
  }
 ],
 "metadata": {
  "kernelspec": {
   "display_name": "Python 3",
   "language": "python",
   "name": "python3"
  },
  "language_info": {
   "codemirror_mode": {
    "name": "ipython",
    "version": 3
   },
   "file_extension": ".py",
   "mimetype": "text/x-python",
   "name": "python",
   "nbconvert_exporter": "python",
   "pygments_lexer": "ipython3",
   "version": "3.7.7"
  }
 },
 "nbformat": 4,
 "nbformat_minor": 4
}
