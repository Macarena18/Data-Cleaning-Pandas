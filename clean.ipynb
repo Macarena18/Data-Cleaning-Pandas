{
 "cells": [
  {
   "cell_type": "code",
   "execution_count": 1,
   "metadata": {},
   "outputs": [],
   "source": [
    "import pandas as pd\n",
    "import re\n",
    "import numpy as np"
   ]
  },
  {
   "cell_type": "code",
   "execution_count": 2,
   "metadata": {},
   "outputs": [
    {
     "name": "stdout",
     "output_type": "stream",
     "text": [
      "(25723, 24)\n"
     ]
    },
    {
     "data": {
      "text/html": [
       "<div>\n",
       "<style scoped>\n",
       "    .dataframe tbody tr th:only-of-type {\n",
       "        vertical-align: middle;\n",
       "    }\n",
       "\n",
       "    .dataframe tbody tr th {\n",
       "        vertical-align: top;\n",
       "    }\n",
       "\n",
       "    .dataframe thead th {\n",
       "        text-align: right;\n",
       "    }\n",
       "</style>\n",
       "<table border=\"1\" class=\"dataframe\">\n",
       "  <thead>\n",
       "    <tr style=\"text-align: right;\">\n",
       "      <th></th>\n",
       "      <th>Case Number</th>\n",
       "      <th>Date</th>\n",
       "      <th>Year</th>\n",
       "      <th>Type</th>\n",
       "      <th>Country</th>\n",
       "      <th>Area</th>\n",
       "      <th>Location</th>\n",
       "      <th>Activity</th>\n",
       "      <th>Name</th>\n",
       "      <th>Sex</th>\n",
       "      <th>...</th>\n",
       "      <th>Species</th>\n",
       "      <th>Investigator or Source</th>\n",
       "      <th>pdf</th>\n",
       "      <th>href formula</th>\n",
       "      <th>href</th>\n",
       "      <th>Case Number.1</th>\n",
       "      <th>Case Number.2</th>\n",
       "      <th>original order</th>\n",
       "      <th>Unnamed: 22</th>\n",
       "      <th>Unnamed: 23</th>\n",
       "    </tr>\n",
       "  </thead>\n",
       "  <tbody>\n",
       "    <tr>\n",
       "      <th>0</th>\n",
       "      <td>2018.06.25</td>\n",
       "      <td>25-Jun-2018</td>\n",
       "      <td>2018.0</td>\n",
       "      <td>Boating</td>\n",
       "      <td>USA</td>\n",
       "      <td>California</td>\n",
       "      <td>Oceanside, San Diego County</td>\n",
       "      <td>Paddling</td>\n",
       "      <td>Julie Wolfe</td>\n",
       "      <td>F</td>\n",
       "      <td>...</td>\n",
       "      <td>White shark</td>\n",
       "      <td>R. Collier, GSAF</td>\n",
       "      <td>2018.06.25-Wolfe.pdf</td>\n",
       "      <td>http://sharkattackfile.net/spreadsheets/pdf_di...</td>\n",
       "      <td>http://sharkattackfile.net/spreadsheets/pdf_di...</td>\n",
       "      <td>2018.06.25</td>\n",
       "      <td>2018.06.25</td>\n",
       "      <td>6303.0</td>\n",
       "      <td>NaN</td>\n",
       "      <td>NaN</td>\n",
       "    </tr>\n",
       "    <tr>\n",
       "      <th>1</th>\n",
       "      <td>2018.06.18</td>\n",
       "      <td>18-Jun-2018</td>\n",
       "      <td>2018.0</td>\n",
       "      <td>Unprovoked</td>\n",
       "      <td>USA</td>\n",
       "      <td>Georgia</td>\n",
       "      <td>St. Simon Island, Glynn County</td>\n",
       "      <td>Standing</td>\n",
       "      <td>Adyson McNeely</td>\n",
       "      <td>F</td>\n",
       "      <td>...</td>\n",
       "      <td>NaN</td>\n",
       "      <td>K.McMurray, TrackingSharks.com</td>\n",
       "      <td>2018.06.18-McNeely.pdf</td>\n",
       "      <td>http://sharkattackfile.net/spreadsheets/pdf_di...</td>\n",
       "      <td>http://sharkattackfile.net/spreadsheets/pdf_di...</td>\n",
       "      <td>2018.06.18</td>\n",
       "      <td>2018.06.18</td>\n",
       "      <td>6302.0</td>\n",
       "      <td>NaN</td>\n",
       "      <td>NaN</td>\n",
       "    </tr>\n",
       "    <tr>\n",
       "      <th>2</th>\n",
       "      <td>2018.06.09</td>\n",
       "      <td>09-Jun-2018</td>\n",
       "      <td>2018.0</td>\n",
       "      <td>Invalid</td>\n",
       "      <td>USA</td>\n",
       "      <td>Hawaii</td>\n",
       "      <td>Habush, Oahu</td>\n",
       "      <td>Surfing</td>\n",
       "      <td>John Denges</td>\n",
       "      <td>M</td>\n",
       "      <td>...</td>\n",
       "      <td>NaN</td>\n",
       "      <td>K.McMurray, TrackingSharks.com</td>\n",
       "      <td>2018.06.09-Denges.pdf</td>\n",
       "      <td>http://sharkattackfile.net/spreadsheets/pdf_di...</td>\n",
       "      <td>http://sharkattackfile.net/spreadsheets/pdf_di...</td>\n",
       "      <td>2018.06.09</td>\n",
       "      <td>2018.06.09</td>\n",
       "      <td>6301.0</td>\n",
       "      <td>NaN</td>\n",
       "      <td>NaN</td>\n",
       "    </tr>\n",
       "    <tr>\n",
       "      <th>3</th>\n",
       "      <td>2018.06.08</td>\n",
       "      <td>08-Jun-2018</td>\n",
       "      <td>2018.0</td>\n",
       "      <td>Unprovoked</td>\n",
       "      <td>AUSTRALIA</td>\n",
       "      <td>New South Wales</td>\n",
       "      <td>Arrawarra Headland</td>\n",
       "      <td>Surfing</td>\n",
       "      <td>male</td>\n",
       "      <td>M</td>\n",
       "      <td>...</td>\n",
       "      <td>2 m shark</td>\n",
       "      <td>B. Myatt, GSAF</td>\n",
       "      <td>2018.06.08-Arrawarra.pdf</td>\n",
       "      <td>http://sharkattackfile.net/spreadsheets/pdf_di...</td>\n",
       "      <td>http://sharkattackfile.net/spreadsheets/pdf_di...</td>\n",
       "      <td>2018.06.08</td>\n",
       "      <td>2018.06.08</td>\n",
       "      <td>6300.0</td>\n",
       "      <td>NaN</td>\n",
       "      <td>NaN</td>\n",
       "    </tr>\n",
       "    <tr>\n",
       "      <th>4</th>\n",
       "      <td>2018.06.04</td>\n",
       "      <td>04-Jun-2018</td>\n",
       "      <td>2018.0</td>\n",
       "      <td>Provoked</td>\n",
       "      <td>MEXICO</td>\n",
       "      <td>Colima</td>\n",
       "      <td>La Ticla</td>\n",
       "      <td>Free diving</td>\n",
       "      <td>Gustavo Ramos</td>\n",
       "      <td>M</td>\n",
       "      <td>...</td>\n",
       "      <td>Tiger shark, 3m</td>\n",
       "      <td>A .Kipper</td>\n",
       "      <td>2018.06.04-Ramos.pdf</td>\n",
       "      <td>http://sharkattackfile.net/spreadsheets/pdf_di...</td>\n",
       "      <td>http://sharkattackfile.net/spreadsheets/pdf_di...</td>\n",
       "      <td>2018.06.04</td>\n",
       "      <td>2018.06.04</td>\n",
       "      <td>6299.0</td>\n",
       "      <td>NaN</td>\n",
       "      <td>NaN</td>\n",
       "    </tr>\n",
       "  </tbody>\n",
       "</table>\n",
       "<p>5 rows × 24 columns</p>\n",
       "</div>"
      ],
      "text/plain": [
       "  Case Number         Date    Year        Type    Country             Area  \\\n",
       "0  2018.06.25  25-Jun-2018  2018.0     Boating        USA       California   \n",
       "1  2018.06.18  18-Jun-2018  2018.0  Unprovoked        USA          Georgia   \n",
       "2  2018.06.09  09-Jun-2018  2018.0     Invalid        USA           Hawaii   \n",
       "3  2018.06.08  08-Jun-2018  2018.0  Unprovoked  AUSTRALIA  New South Wales   \n",
       "4  2018.06.04  04-Jun-2018  2018.0    Provoked     MEXICO           Colima   \n",
       "\n",
       "                         Location     Activity             Name Sex   ...  \\\n",
       "0     Oceanside, San Diego County     Paddling      Julie Wolfe    F  ...   \n",
       "1  St. Simon Island, Glynn County     Standing  Adyson McNeely     F  ...   \n",
       "2                    Habush, Oahu      Surfing      John Denges    M  ...   \n",
       "3              Arrawarra Headland      Surfing             male    M  ...   \n",
       "4                        La Ticla  Free diving   Gustavo Ramos     M  ...   \n",
       "\n",
       "          Species           Investigator or Source                       pdf  \\\n",
       "0      White shark                R. Collier, GSAF      2018.06.25-Wolfe.pdf   \n",
       "1              NaN  K.McMurray, TrackingSharks.com    2018.06.18-McNeely.pdf   \n",
       "2              NaN  K.McMurray, TrackingSharks.com     2018.06.09-Denges.pdf   \n",
       "3        2 m shark                  B. Myatt, GSAF  2018.06.08-Arrawarra.pdf   \n",
       "4  Tiger shark, 3m                       A .Kipper      2018.06.04-Ramos.pdf   \n",
       "\n",
       "                                        href formula  \\\n",
       "0  http://sharkattackfile.net/spreadsheets/pdf_di...   \n",
       "1  http://sharkattackfile.net/spreadsheets/pdf_di...   \n",
       "2  http://sharkattackfile.net/spreadsheets/pdf_di...   \n",
       "3  http://sharkattackfile.net/spreadsheets/pdf_di...   \n",
       "4  http://sharkattackfile.net/spreadsheets/pdf_di...   \n",
       "\n",
       "                                                href Case Number.1  \\\n",
       "0  http://sharkattackfile.net/spreadsheets/pdf_di...    2018.06.25   \n",
       "1  http://sharkattackfile.net/spreadsheets/pdf_di...    2018.06.18   \n",
       "2  http://sharkattackfile.net/spreadsheets/pdf_di...    2018.06.09   \n",
       "3  http://sharkattackfile.net/spreadsheets/pdf_di...    2018.06.08   \n",
       "4  http://sharkattackfile.net/spreadsheets/pdf_di...    2018.06.04   \n",
       "\n",
       "  Case Number.2 original order Unnamed: 22 Unnamed: 23  \n",
       "0    2018.06.25         6303.0         NaN         NaN  \n",
       "1    2018.06.18         6302.0         NaN         NaN  \n",
       "2    2018.06.09         6301.0         NaN         NaN  \n",
       "3    2018.06.08         6300.0         NaN         NaN  \n",
       "4    2018.06.04         6299.0         NaN         NaN  \n",
       "\n",
       "[5 rows x 24 columns]"
      ]
     },
     "execution_count": 2,
     "metadata": {},
     "output_type": "execute_result"
    }
   ],
   "source": [
    "# 1. Importamos archivo csv\n",
    "df=pd.read_csv('src/attacks.csv',encoding='latin-1') #Incluir encoding='latin-1'o UTF-8/16 para que pueda abrir el archivo\n",
    "print(df.shape) # ver cuantas filas/columnas tiene el archivo\n",
    "df.head()"
   ]
  },
  {
   "cell_type": "code",
   "execution_count": 3,
   "metadata": {},
   "outputs": [
    {
     "data": {
      "text/plain": [
       "Index(['Case Number', 'Date', 'Year', 'Type', 'Country', 'Area', 'Location',\n",
       "       'Activity', 'Name', 'Sex ', 'Age', 'Injury', 'Fatal (Y/N)', 'Time',\n",
       "       'Species ', 'Investigator or Source', 'pdf', 'href formula', 'href',\n",
       "       'Case Number.1', 'Case Number.2', 'original order', 'Unnamed: 22',\n",
       "       'Unnamed: 23'],\n",
       "      dtype='object')"
      ]
     },
     "execution_count": 3,
     "metadata": {},
     "output_type": "execute_result"
    }
   ],
   "source": [
    "df.columns # ver que columnas hay en el csv"
   ]
  },
  {
   "cell_type": "code",
   "execution_count": 4,
   "metadata": {},
   "outputs": [
    {
     "data": {
      "text/plain": [
       "(25723, 24)"
      ]
     },
     "execution_count": 4,
     "metadata": {},
     "output_type": "execute_result"
    }
   ],
   "source": [
    "#2. Eliminamos duplicados\n",
    "df.drop_duplicates()\n",
    "df.shape"
   ]
  },
  {
   "cell_type": "code",
   "execution_count": 5,
   "metadata": {},
   "outputs": [
    {
     "data": {
      "text/html": [
       "<div>\n",
       "<style scoped>\n",
       "    .dataframe tbody tr th:only-of-type {\n",
       "        vertical-align: middle;\n",
       "    }\n",
       "\n",
       "    .dataframe tbody tr th {\n",
       "        vertical-align: top;\n",
       "    }\n",
       "\n",
       "    .dataframe thead th {\n",
       "        text-align: right;\n",
       "    }\n",
       "</style>\n",
       "<table border=\"1\" class=\"dataframe\">\n",
       "  <thead>\n",
       "    <tr style=\"text-align: right;\">\n",
       "      <th></th>\n",
       "      <th>Case Number</th>\n",
       "      <th>Date</th>\n",
       "      <th>Year</th>\n",
       "      <th>Type</th>\n",
       "      <th>Country</th>\n",
       "      <th>Area</th>\n",
       "      <th>Location</th>\n",
       "      <th>Activity</th>\n",
       "      <th>Name</th>\n",
       "      <th>Sex</th>\n",
       "      <th>...</th>\n",
       "      <th>Species</th>\n",
       "      <th>Investigator or Source</th>\n",
       "      <th>pdf</th>\n",
       "      <th>href formula</th>\n",
       "      <th>href</th>\n",
       "      <th>Case Number.1</th>\n",
       "      <th>Case Number.2</th>\n",
       "      <th>original order</th>\n",
       "      <th>Unnamed: 22</th>\n",
       "      <th>Unnamed: 23</th>\n",
       "    </tr>\n",
       "  </thead>\n",
       "  <tbody>\n",
       "    <tr>\n",
       "      <th>0</th>\n",
       "      <td>False</td>\n",
       "      <td>False</td>\n",
       "      <td>False</td>\n",
       "      <td>False</td>\n",
       "      <td>False</td>\n",
       "      <td>False</td>\n",
       "      <td>False</td>\n",
       "      <td>False</td>\n",
       "      <td>False</td>\n",
       "      <td>False</td>\n",
       "      <td>...</td>\n",
       "      <td>False</td>\n",
       "      <td>False</td>\n",
       "      <td>False</td>\n",
       "      <td>False</td>\n",
       "      <td>False</td>\n",
       "      <td>False</td>\n",
       "      <td>False</td>\n",
       "      <td>False</td>\n",
       "      <td>True</td>\n",
       "      <td>True</td>\n",
       "    </tr>\n",
       "    <tr>\n",
       "      <th>1</th>\n",
       "      <td>False</td>\n",
       "      <td>False</td>\n",
       "      <td>False</td>\n",
       "      <td>False</td>\n",
       "      <td>False</td>\n",
       "      <td>False</td>\n",
       "      <td>False</td>\n",
       "      <td>False</td>\n",
       "      <td>False</td>\n",
       "      <td>False</td>\n",
       "      <td>...</td>\n",
       "      <td>True</td>\n",
       "      <td>False</td>\n",
       "      <td>False</td>\n",
       "      <td>False</td>\n",
       "      <td>False</td>\n",
       "      <td>False</td>\n",
       "      <td>False</td>\n",
       "      <td>False</td>\n",
       "      <td>True</td>\n",
       "      <td>True</td>\n",
       "    </tr>\n",
       "    <tr>\n",
       "      <th>2</th>\n",
       "      <td>False</td>\n",
       "      <td>False</td>\n",
       "      <td>False</td>\n",
       "      <td>False</td>\n",
       "      <td>False</td>\n",
       "      <td>False</td>\n",
       "      <td>False</td>\n",
       "      <td>False</td>\n",
       "      <td>False</td>\n",
       "      <td>False</td>\n",
       "      <td>...</td>\n",
       "      <td>True</td>\n",
       "      <td>False</td>\n",
       "      <td>False</td>\n",
       "      <td>False</td>\n",
       "      <td>False</td>\n",
       "      <td>False</td>\n",
       "      <td>False</td>\n",
       "      <td>False</td>\n",
       "      <td>True</td>\n",
       "      <td>True</td>\n",
       "    </tr>\n",
       "    <tr>\n",
       "      <th>3</th>\n",
       "      <td>False</td>\n",
       "      <td>False</td>\n",
       "      <td>False</td>\n",
       "      <td>False</td>\n",
       "      <td>False</td>\n",
       "      <td>False</td>\n",
       "      <td>False</td>\n",
       "      <td>False</td>\n",
       "      <td>False</td>\n",
       "      <td>False</td>\n",
       "      <td>...</td>\n",
       "      <td>False</td>\n",
       "      <td>False</td>\n",
       "      <td>False</td>\n",
       "      <td>False</td>\n",
       "      <td>False</td>\n",
       "      <td>False</td>\n",
       "      <td>False</td>\n",
       "      <td>False</td>\n",
       "      <td>True</td>\n",
       "      <td>True</td>\n",
       "    </tr>\n",
       "    <tr>\n",
       "      <th>4</th>\n",
       "      <td>False</td>\n",
       "      <td>False</td>\n",
       "      <td>False</td>\n",
       "      <td>False</td>\n",
       "      <td>False</td>\n",
       "      <td>False</td>\n",
       "      <td>False</td>\n",
       "      <td>False</td>\n",
       "      <td>False</td>\n",
       "      <td>False</td>\n",
       "      <td>...</td>\n",
       "      <td>False</td>\n",
       "      <td>False</td>\n",
       "      <td>False</td>\n",
       "      <td>False</td>\n",
       "      <td>False</td>\n",
       "      <td>False</td>\n",
       "      <td>False</td>\n",
       "      <td>False</td>\n",
       "      <td>True</td>\n",
       "      <td>True</td>\n",
       "    </tr>\n",
       "  </tbody>\n",
       "</table>\n",
       "<p>5 rows × 24 columns</p>\n",
       "</div>"
      ],
      "text/plain": [
       "   Case Number   Date   Year   Type  Country   Area  Location  Activity  \\\n",
       "0        False  False  False  False    False  False     False     False   \n",
       "1        False  False  False  False    False  False     False     False   \n",
       "2        False  False  False  False    False  False     False     False   \n",
       "3        False  False  False  False    False  False     False     False   \n",
       "4        False  False  False  False    False  False     False     False   \n",
       "\n",
       "    Name   Sex   ...  Species   Investigator or Source    pdf  href formula  \\\n",
       "0  False  False  ...     False                   False  False         False   \n",
       "1  False  False  ...      True                   False  False         False   \n",
       "2  False  False  ...      True                   False  False         False   \n",
       "3  False  False  ...     False                   False  False         False   \n",
       "4  False  False  ...     False                   False  False         False   \n",
       "\n",
       "    href  Case Number.1  Case Number.2  original order  Unnamed: 22  \\\n",
       "0  False          False          False           False         True   \n",
       "1  False          False          False           False         True   \n",
       "2  False          False          False           False         True   \n",
       "3  False          False          False           False         True   \n",
       "4  False          False          False           False         True   \n",
       "\n",
       "   Unnamed: 23  \n",
       "0         True  \n",
       "1         True  \n",
       "2         True  \n",
       "3         True  \n",
       "4         True  \n",
       "\n",
       "[5 rows x 24 columns]"
      ]
     },
     "execution_count": 5,
     "metadata": {},
     "output_type": "execute_result"
    }
   ],
   "source": [
    "#3.Encontrar columnas con valores nulos\n",
    "df.isnull().head()"
   ]
  },
  {
   "cell_type": "code",
   "execution_count": 6,
   "metadata": {},
   "outputs": [
    {
     "data": {
      "text/plain": [
       "Case Number               17021\n",
       "Date                      19421\n",
       "Year                      19423\n",
       "Type                      19425\n",
       "Country                   19471\n",
       "Area                      19876\n",
       "Location                  19961\n",
       "Activity                  19965\n",
       "Name                      19631\n",
       "Sex                       19986\n",
       "Age                       22252\n",
       "Injury                    19449\n",
       "Fatal (Y/N)               19960\n",
       "Time                      22775\n",
       "Species                   22259\n",
       "Investigator or Source    19438\n",
       "pdf                       19421\n",
       "href formula              19422\n",
       "href                      19421\n",
       "Case Number.1             19421\n",
       "Case Number.2             19421\n",
       "original order            19414\n",
       "Unnamed: 22               25722\n",
       "Unnamed: 23               25721\n",
       "dtype: int64"
      ]
     },
     "execution_count": 6,
     "metadata": {},
     "output_type": "execute_result"
    }
   ],
   "source": [
    "#Ver total de filas nulas de cada columna\n",
    "null_columns=df.isnull().sum()\n",
    "null_columns[null_columns>0]"
   ]
  },
  {
   "cell_type": "code",
   "execution_count": 7,
   "metadata": {},
   "outputs": [
    {
     "data": {
      "text/plain": [
       "True     25700\n",
       "False       23\n",
       "Name: Case Number.1, dtype: int64"
      ]
     },
     "execution_count": 7,
     "metadata": {},
     "output_type": "execute_result"
    }
   ],
   "source": [
    "#Comprobar que contenido aportan las columnas \"Case Number 1 and 2\" diferente de la columna \"Case Number\"\n",
    "df[[\"Case Number\",\"Case Number.1\",\"Case Number.2\"]] #A primera vista parece que tiene el mismo contenido\n",
    "df[\"Case Number.1\"].equals(df[\"Case Number.2\"].equals(df['Case Number']))#False\n",
    "df[\"Case Number.1\"].isin(df[\"Case Number.2\"]).value_counts()# solo 19 False\n",
    "df[\"Case Number.1\"].isin(df[\"Case Number\"]).value_counts() #Solo 23 False\n",
    "\n",
    "# Conclusión: las columnas Case Number.1 y Case Number.2 tienen prácticamente el mismo contenido que  Case Number por lo que podemos eliminarlas\n"
   ]
  },
  {
   "cell_type": "code",
   "execution_count": 8,
   "metadata": {},
   "outputs": [
    {
     "data": {
      "text/plain": [
       "(25723, 15)"
      ]
     },
     "execution_count": 8,
     "metadata": {},
     "output_type": "execute_result"
    }
   ],
   "source": [
    "#Ademas elimino el resto de columnas que no aportan ningun valor al analisis: \"pdf\",\"href formula\",\"href\",\"Unnamed: 22\",\"Unnamed: 23\",\"original order\",\"Investigator or Source\"\n",
    "\n",
    "df_clean = df.drop(columns=[\"Case Number.1\",\"Case Number.2\",\"pdf\",\"href formula\",\"href\",\"Unnamed: 22\",\"Unnamed: 23\",\"original order\",\"Investigator or Source\"])\n",
    "df_clean.shape"
   ]
  },
  {
   "cell_type": "code",
   "execution_count": 9,
   "metadata": {},
   "outputs": [
    {
     "data": {
      "text/plain": [
       "Index(['Case Number', 'Date', 'Year', 'Type', 'Country', 'Area', 'Location',\n",
       "       'Activity', 'Name', 'Sex ', 'Age', 'Injury', 'Fatal (Y/N)', 'Time',\n",
       "       'Species '],\n",
       "      dtype='object')"
      ]
     },
     "execution_count": 9,
     "metadata": {},
     "output_type": "execute_result"
    }
   ],
   "source": [
    "df_clean.columns"
   ]
  },
  {
   "cell_type": "code",
   "execution_count": 10,
   "metadata": {},
   "outputs": [
    {
     "data": {
      "text/plain": [
       "Case Number    17021\n",
       "Date           19421\n",
       "Year           19423\n",
       "Type           19425\n",
       "Country        19471\n",
       "Area           19876\n",
       "Location       19961\n",
       "Activity       19965\n",
       "Name           19631\n",
       "Sex            19986\n",
       "Age            22252\n",
       "Injury         19449\n",
       "Fatal (Y/N)    19960\n",
       "Time           22775\n",
       "Species        22259\n",
       "dtype: int64"
      ]
     },
     "execution_count": 10,
     "metadata": {},
     "output_type": "execute_result"
    }
   ],
   "source": [
    "df_clean.isnull().sum()"
   ]
  },
  {
   "cell_type": "code",
   "execution_count": 11,
   "metadata": {},
   "outputs": [
    {
     "data": {
      "text/plain": [
       "(8703, 15)"
      ]
     },
     "execution_count": 11,
     "metadata": {},
     "output_type": "execute_result"
    }
   ],
   "source": [
    "#Drop the rows where all elements are missing -> al haber tantas rows vacias elimino las filas que tengan todas las columnas nulas\n",
    "df_clean=df_clean.dropna(how='all')\n",
    "df_clean.shape"
   ]
  },
  {
   "cell_type": "code",
   "execution_count": 12,
   "metadata": {},
   "outputs": [
    {
     "data": {
      "text/plain": [
       "Case Number       1\n",
       "Date           2401\n",
       "Year           2403\n",
       "Type           2405\n",
       "Country        2451\n",
       "Area           2856\n",
       "Location       2941\n",
       "Activity       2945\n",
       "Name           2611\n",
       "Sex            2966\n",
       "Age            5232\n",
       "Injury         2429\n",
       "Fatal (Y/N)    2940\n",
       "Time           5755\n",
       "Species        5239\n",
       "dtype: int64"
      ]
     },
     "execution_count": 12,
     "metadata": {},
     "output_type": "execute_result"
    }
   ],
   "source": [
    "df_clean.isnull().sum()"
   ]
  },
  {
   "cell_type": "code",
   "execution_count": 13,
   "metadata": {},
   "outputs": [
    {
     "data": {
      "text/html": [
       "<div>\n",
       "<style scoped>\n",
       "    .dataframe tbody tr th:only-of-type {\n",
       "        vertical-align: middle;\n",
       "    }\n",
       "\n",
       "    .dataframe tbody tr th {\n",
       "        vertical-align: top;\n",
       "    }\n",
       "\n",
       "    .dataframe thead th {\n",
       "        text-align: right;\n",
       "    }\n",
       "</style>\n",
       "<table border=\"1\" class=\"dataframe\">\n",
       "  <thead>\n",
       "    <tr style=\"text-align: right;\">\n",
       "      <th></th>\n",
       "      <th>Year</th>\n",
       "      <th>Date</th>\n",
       "    </tr>\n",
       "  </thead>\n",
       "  <tbody>\n",
       "    <tr>\n",
       "      <th>5488</th>\n",
       "      <td>1905.0</td>\n",
       "      <td>Reported 06-Sep-1905</td>\n",
       "    </tr>\n",
       "  </tbody>\n",
       "</table>\n",
       "</div>"
      ],
      "text/plain": [
       "        Year                  Date\n",
       "5488  1905.0  Reported 06-Sep-1905"
      ]
     },
     "execution_count": 13,
     "metadata": {},
     "output_type": "execute_result"
    }
   ],
   "source": [
    "# Limpio columna \"Case Number\"\n",
    "df_clean[\"Case Number\"].value_counts() # Parece que el contenido de la columna es igual a la fecha= Columna Date/Year\n",
    "df_clean[df_clean[\"Case Number\"].isnull()][[\"Year\",\"Date\"]] # Compruebo la columna nula con columnas relacionadas"
   ]
  },
  {
   "cell_type": "code",
   "execution_count": 14,
   "metadata": {},
   "outputs": [],
   "source": [
    "df_clean[\"Case Number\"]= df_clean[\"Case Number\"].fillna(\"1905.09.06\") # Relleno info nula con info de columnas relacionadas"
   ]
  },
  {
   "cell_type": "code",
   "execution_count": 15,
   "metadata": {},
   "outputs": [
    {
     "data": {
      "text/plain": [
       "Case Number       0\n",
       "Date           2401\n",
       "Year           2403\n",
       "Type           2405\n",
       "Country        2451\n",
       "Area           2856\n",
       "Location       2941\n",
       "Activity       2945\n",
       "Name           2611\n",
       "Sex            2966\n",
       "Age            5232\n",
       "Injury         2429\n",
       "Fatal (Y/N)    2940\n",
       "Time           5755\n",
       "Species        5239\n",
       "dtype: int64"
      ]
     },
     "execution_count": 15,
     "metadata": {},
     "output_type": "execute_result"
    }
   ],
   "source": [
    "df_clean.isnull().sum()"
   ]
  },
  {
   "cell_type": "code",
   "execution_count": 16,
   "metadata": {},
   "outputs": [
    {
     "data": {
      "text/plain": [
       "(5343, 15)"
      ]
     },
     "execution_count": 16,
     "metadata": {},
     "output_type": "execute_result"
    }
   ],
   "source": [
    "# Elimino todas las filas que tengan por lo menos 12 columnas nulas (hay 15 en total)\n",
    "df_clean=df_clean.dropna(thresh=12)\n",
    "df_clean.shape"
   ]
  },
  {
   "cell_type": "code",
   "execution_count": 17,
   "metadata": {},
   "outputs": [
    {
     "data": {
      "text/plain": [
       "Case Number       0\n",
       "Date              0\n",
       "Year              0\n",
       "Type              1\n",
       "Country           2\n",
       "Area            104\n",
       "Location        144\n",
       "Activity        155\n",
       "Name             24\n",
       "Sex             217\n",
       "Age            1936\n",
       "Injury            3\n",
       "Fatal (Y/N)     365\n",
       "Time           2430\n",
       "Species        2144\n",
       "dtype: int64"
      ]
     },
     "execution_count": 17,
     "metadata": {},
     "output_type": "execute_result"
    }
   ],
   "source": [
    "df_clean.isnull().sum()"
   ]
  },
  {
   "cell_type": "code",
   "execution_count": 18,
   "metadata": {},
   "outputs": [
    {
     "data": {
      "text/html": [
       "<div>\n",
       "<style scoped>\n",
       "    .dataframe tbody tr th:only-of-type {\n",
       "        vertical-align: middle;\n",
       "    }\n",
       "\n",
       "    .dataframe tbody tr th {\n",
       "        vertical-align: top;\n",
       "    }\n",
       "\n",
       "    .dataframe thead th {\n",
       "        text-align: right;\n",
       "    }\n",
       "</style>\n",
       "<table border=\"1\" class=\"dataframe\">\n",
       "  <thead>\n",
       "    <tr style=\"text-align: right;\">\n",
       "      <th></th>\n",
       "      <th>Activity</th>\n",
       "      <th>Injury</th>\n",
       "      <th>Fatal (Y/N)</th>\n",
       "    </tr>\n",
       "  </thead>\n",
       "  <tbody>\n",
       "    <tr>\n",
       "      <th>85</th>\n",
       "      <td>Fishing</td>\n",
       "      <td>Injuries to hands and legs</td>\n",
       "      <td>N</td>\n",
       "    </tr>\n",
       "  </tbody>\n",
       "</table>\n",
       "</div>"
      ],
      "text/plain": [
       "   Activity                      Injury Fatal (Y/N)\n",
       "85  Fishing  Injuries to hands and legs           N"
      ]
     },
     "execution_count": 18,
     "metadata": {},
     "output_type": "execute_result"
    }
   ],
   "source": [
    "# Limpio columna \"Type\"\n",
    "df_clean[\"Type\"].value_counts()\n",
    "df_clean[df_clean[\"Type\"].isnull()][[\"Activity\",\"Injury\",\"Fatal (Y/N)\"]]"
   ]
  },
  {
   "cell_type": "code",
   "execution_count": 19,
   "metadata": {},
   "outputs": [
    {
     "data": {
      "text/plain": [
       "Unprovoked      4076\n",
       "Provoked         520\n",
       "Invalid          383\n",
       "Boating          254\n",
       "Sea Disaster     110\n",
       "Name: Type, dtype: int64"
      ]
     },
     "execution_count": 19,
     "metadata": {},
     "output_type": "execute_result"
    }
   ],
   "source": [
    "#Añado fila vacia y adapto contenido de la columna para que quede categorizado\n",
    "df_clean[\"Type\"]= df_clean[\"Type\"].fillna(\"Boating\")\n",
    "df_clean[\"Type\"]= df_clean[\"Type\"].str.replace(\"Boatinginging\",\"Boating\")\n",
    "df_clean[\"Type\"]= df_clean[\"Type\"].str.replace(\"Boatingingomg\",\"Boating\")\n",
    "df_clean[\"Type\"]= df_clean[\"Type\"].str.replace(\"Questionable\",\"Invalid\")\n",
    "df_clean[\"Type\"]= df_clean[\"Type\"].str.replace(\"Boatinging\",\"Boating\")\n",
    "df_clean[\"Type\"]= df_clean[\"Type\"].str.replace(\"Boating\",\"Boating\")\n",
    "df_clean[\"Type\"]= df_clean[\"Type\"].str.replace(\"Boat\",\"Boating\")\n",
    "df_clean[\"Type\"]= df_clean[\"Type\"].str.replace(\"Boatingingomg\",\"Boating\")\n",
    "df_clean[\"Type\"]= df_clean[\"Type\"].str.replace(\"Boatinging\",\"Boating\")\n",
    "df_clean[\"Type\"]= df_clean[\"Type\"].str.replace(\"Boatingomg\",\"Boating\")\n",
    "df_clean[\"Type\"].value_counts()"
   ]
  },
  {
   "cell_type": "code",
   "execution_count": 20,
   "metadata": {},
   "outputs": [
    {
     "data": {
      "text/plain": [
       "Case Number       0\n",
       "Date              0\n",
       "Year              0\n",
       "Type              0\n",
       "Country           2\n",
       "Area            104\n",
       "Location        144\n",
       "Activity        155\n",
       "Name             24\n",
       "Sex             217\n",
       "Age            1936\n",
       "Injury            3\n",
       "Fatal (Y/N)     365\n",
       "Time           2430\n",
       "Species        2144\n",
       "dtype: int64"
      ]
     },
     "execution_count": 20,
     "metadata": {},
     "output_type": "execute_result"
    }
   ],
   "source": [
    "df_clean.isnull().sum()"
   ]
  },
  {
   "cell_type": "code",
   "execution_count": 21,
   "metadata": {},
   "outputs": [
    {
     "data": {
      "text/html": [
       "<div>\n",
       "<style scoped>\n",
       "    .dataframe tbody tr th:only-of-type {\n",
       "        vertical-align: middle;\n",
       "    }\n",
       "\n",
       "    .dataframe tbody tr th {\n",
       "        vertical-align: top;\n",
       "    }\n",
       "\n",
       "    .dataframe thead th {\n",
       "        text-align: right;\n",
       "    }\n",
       "</style>\n",
       "<table border=\"1\" class=\"dataframe\">\n",
       "  <thead>\n",
       "    <tr style=\"text-align: right;\">\n",
       "      <th></th>\n",
       "      <th>Area</th>\n",
       "      <th>Location</th>\n",
       "      <th>Activity</th>\n",
       "    </tr>\n",
       "  </thead>\n",
       "  <tbody>\n",
       "    <tr>\n",
       "      <th>4231</th>\n",
       "      <td>Near the Andaman &amp; Nicobar Islands</td>\n",
       "      <td>NaN</td>\n",
       "      <td>Climbing back on ship</td>\n",
       "    </tr>\n",
       "    <tr>\n",
       "      <th>4498</th>\n",
       "      <td>Caribbean Sea</td>\n",
       "      <td>Between  Cuba  &amp; Costa Rica</td>\n",
       "      <td>Sea Disaster, sinking of the motorship Wingate</td>\n",
       "    </tr>\n",
       "  </tbody>\n",
       "</table>\n",
       "</div>"
      ],
      "text/plain": [
       "                                    Area                     Location  \\\n",
       "4231  Near the Andaman & Nicobar Islands                          NaN   \n",
       "4498                       Caribbean Sea  Between  Cuba  & Costa Rica   \n",
       "\n",
       "                                            Activity  \n",
       "4231                           Climbing back on ship  \n",
       "4498  Sea Disaster, sinking of the motorship Wingate  "
      ]
     },
     "execution_count": 21,
     "metadata": {},
     "output_type": "execute_result"
    }
   ],
   "source": [
    "#Limpio columna \"Country\"\n",
    "df_clean[\"Country\"].value_counts()\n",
    "df_clean[df_clean[\"Country\"].isnull()][[\"Area\",\"Location\",\"Activity\"]]"
   ]
  },
  {
   "cell_type": "code",
   "execution_count": 22,
   "metadata": {},
   "outputs": [
    {
     "data": {
      "text/plain": [
       "0          Usa\n",
       "1          Usa\n",
       "2          Usa\n",
       "3    Australia\n",
       "4       Mexico\n",
       "5    Australia\n",
       "6       Brazil\n",
       "7          Usa\n",
       "8          Usa\n",
       "9          Usa\n",
       "Name: Country, dtype: object"
      ]
     },
     "execution_count": 22,
     "metadata": {},
     "output_type": "execute_result"
    }
   ],
   "source": [
    "df_clean.loc[df_clean[\"Country\"].isnull(),\"Country\"] = [\"INDIA\",\"PANAMA\"] #Relleno filas nulas\n",
    "df_clean[\"Country\"]=df_clean[\"Country\"].apply(lambda x: x.lower())# Paso a minusculass\n",
    "df_clean[\"Country\"]=df_clean[\"Country\"].str.replace('(\\w+)', lambda x: x.group(0).capitalize()) # Pongo mayuscula a la primera letra de cada pais\n",
    "df_clean[\"Country\"].head(10)"
   ]
  },
  {
   "cell_type": "code",
   "execution_count": 23,
   "metadata": {},
   "outputs": [
    {
     "data": {
      "text/plain": [
       "Series([], dtype: int64)"
      ]
     },
     "execution_count": 23,
     "metadata": {},
     "output_type": "execute_result"
    }
   ],
   "source": [
    "#Relleno filas nulas del resto de columnas para que quede a 0\n",
    "df_clean[\"Area\"]= df_clean[\"Area\"].fillna(\"Unknown\")\n",
    "df_clean[\"Location\"]= df_clean[\"Location\"].fillna(\"Unknown\")\n",
    "df_clean[\"Activity\"]= df_clean[\"Activity\"].fillna(\"Unknown\")\n",
    "df_clean[\"Name\"]= df_clean[\"Name\"].fillna(\"Noname\")\n",
    "df_clean[\"Sex \"]= df_clean[\"Sex \"].fillna(\"Unknown\")\n",
    "df_clean[\"Age\"]= df_clean[\"Age\"].fillna(\"0\")\n",
    "df_clean[\"Injury\"]= df_clean[\"Injury\"].fillna(\"Unknown\")\n",
    "df_clean[\"Fatal (Y/N)\"]= df_clean[\"Fatal (Y/N)\"].fillna(\"Unknown\")\n",
    "df_clean[\"Time\"]= df_clean[\"Time\"].fillna(\"Notime\")\n",
    "df_clean[\"Species \"]= df_clean[\"Species \"].fillna(\"Unknown\")\n",
    "\n",
    "# ALL DATA IS CLEANED\n",
    "df_clean.isnull().sum()[df_clean.isnull().sum() > 0]"
   ]
  },
  {
   "cell_type": "code",
   "execution_count": 24,
   "metadata": {},
   "outputs": [
    {
     "data": {
      "text/plain": [
       "Case Number     object\n",
       "Date            object\n",
       "Year           float64\n",
       "Type            object\n",
       "Country         object\n",
       "Area            object\n",
       "Location        object\n",
       "Activity        object\n",
       "Name            object\n",
       "Sex             object\n",
       "Age             object\n",
       "Injury          object\n",
       "Fatal (Y/N)     object\n",
       "Time            object\n",
       "Species         object\n",
       "dtype: object"
      ]
     },
     "execution_count": 24,
     "metadata": {},
     "output_type": "execute_result"
    }
   ],
   "source": [
    "#Verifico tipo de datos en cada columna \n",
    "df_clean.dtypes #Todos son object menos Year que es float64"
   ]
  },
  {
   "cell_type": "code",
   "execution_count": 25,
   "metadata": {},
   "outputs": [
    {
     "data": {
      "text/plain": [
       "dtype('O')"
      ]
     },
     "execution_count": 25,
     "metadata": {},
     "output_type": "execute_result"
    }
   ],
   "source": [
    "#Modifico tipo de column Year\n",
    "df_clean[\"Year\"]=df_clean[\"Year\"].astype(\"object\")\n",
    "df_clean[\"Year\"].dtype"
   ]
  },
  {
   "cell_type": "code",
   "execution_count": 26,
   "metadata": {},
   "outputs": [],
   "source": [
    "#Corrijo nombres de algunas columnas con espacios\n",
    "df_clean=df_clean.rename(columns={\"Sex \":\"Sex\"}) #Quito el espacio del nombre de la columna \"Sex\"\n",
    "df_clean=df_clean.rename(columns={\"Species \":\"Species\"})"
   ]
  },
  {
   "cell_type": "code",
   "execution_count": 27,
   "metadata": {},
   "outputs": [
    {
     "data": {
      "text/plain": [
       "Surfing         1225\n",
       "Fishing         1076\n",
       "Swimming        1027\n",
       "Unknown          158\n",
       "Wading           146\n",
       "Bathing          143\n",
       "Diving           102\n",
       "Standing          98\n",
       "Snorkeling        84\n",
       "Scuba diving      75\n",
       "Name: Activity, dtype: int64"
      ]
     },
     "execution_count": 27,
     "metadata": {},
     "output_type": "execute_result"
    }
   ],
   "source": [
    "#Limpio contenido columna Activity \n",
    "df_clean.loc[df_clean[\"Activity\"].str.contains(\"wim\"),\"Activity\"]=\"Swimming\"\n",
    "df_clean.loc[df_clean[\"Activity\"].str.contains(\"urf\"),\"Activity\"]=\"Surfing\"\n",
    "df_clean.loc[df_clean[\"Activity\"].str.contains(\"ish\"),\"Activity\"]=\"Fishing\"\n",
    "df_clean[\"Activity\"]= df_clean[\"Activity\"].str.replace(\"Spearfishing\",\"Fishing\")\n",
    "df_clean[\"Activity\"].value_counts().head(10)"
   ]
  },
  {
   "cell_type": "code",
   "execution_count": 47,
   "metadata": {},
   "outputs": [
    {
     "data": {
      "text/plain": [
       "0    2018.06.25\n",
       "1    2018.06.18\n",
       "2    2018.06.09\n",
       "3    2018.06.08\n",
       "4    2018.06.04\n",
       "5    2018.06.03\n",
       "6    2018.06.03\n",
       "7    2018.05.27\n",
       "8    2018.05.26\n",
       "9    2018.05.26\n",
       "Name: Case Number, dtype: object"
      ]
     },
     "execution_count": 47,
     "metadata": {},
     "output_type": "execute_result"
    }
   ],
   "source": [
    "#Limpio contenido columnas relacionadas con fechas:Al estar en mejor formato la columna \"Case Number\" vamos a limpiar esta para utilizar su contenido\n",
    "df_clean[\"Case Number\"]=df_clean[\"Case Number\"].map(lambda x: str(x)[0:10]) # quito todos los elementos fuera de la fecha\n",
    "df_clean.loc[df_clean[\"Case Number\"].str.startswith(\"ND\"),\"Case Number\"]=\"0000.00.00\" \n",
    "df_clean[\"Case Number\"].head(10)"
   ]
  },
  {
   "cell_type": "code",
   "execution_count": 29,
   "metadata": {},
   "outputs": [],
   "source": [
    "# Creo nuevas columnas para diferenciar meses y años de cada fecha en base a columna \"Case Number\"\n",
    "df_clean['Day']=[d[8:10] for d in df_clean['Case Number']]\n",
    "df_clean['Month']=[d[5:7] for d in df_clean['Case Number']]\n",
    "df_clean[\"Year2\"]=[d[0:4] for d in df_clean['Case Number']]"
   ]
  },
  {
   "cell_type": "code",
   "execution_count": 30,
   "metadata": {},
   "outputs": [
    {
     "data": {
      "text/plain": [
       "False    5343\n",
       "Name: Year, dtype: int64"
      ]
     },
     "execution_count": 30,
     "metadata": {},
     "output_type": "execute_result"
    }
   ],
   "source": [
    "# Comparo para ver si Year2 y Year tienen mismo contenido\n",
    "df_clean[[\"Year2\",\"Year\"]].head(20) \n",
    "df_clean[\"Year\"].isin(df_clean[\"Year2\"]).value_counts()"
   ]
  },
  {
   "cell_type": "code",
   "execution_count": 31,
   "metadata": {},
   "outputs": [
    {
     "data": {
      "text/plain": [
       "2000    2035\n",
       "1980     859\n",
       "1960     858\n",
       "1940     532\n",
       "1920     378\n",
       "1900     242\n",
       "1880     169\n",
       "1800      99\n",
       "1860      96\n",
       "1840      56\n",
       "1820      19\n",
       "Name: Decade, dtype: int64"
      ]
     },
     "execution_count": 31,
     "metadata": {},
     "output_type": "execute_result"
    }
   ],
   "source": [
    "# Creo columna Decade para poder categorizar los años\n",
    "df_clean[\"Year2\"]=df_clean[\"Year2\"].astype(\"int\") # Convierto columna a int para poder crear columna Decade\n",
    "\n",
    "df_clean[\"Decade\"] = pd.cut(df_clean.Year2,\n",
    "                                bins=[1800,1818,1838,1858,1878,1898,1918,1938,1958,1978,1998,2018], \n",
    "                                labels=range(1800,2020,20))\n",
    "df_clean[\"Decade\"]= df_clean[\"Decade\"].fillna(1800) # Relleno fila nula (años anteriores a 1908 las incluyo en la categoria 1910)\n",
    "df_clean[\"Year2\"]=df_clean[\"Year2\"].astype(\"object\") # vuelvo a convertir la columna a object\n",
    "\n",
    "df_clean[\"Decade\"].value_counts().head(30)\n",
    "\n",
    "df_clean.isnull().sum()\n",
    "df_clean[\"Decade\"].value_counts().head(30)"
   ]
  },
  {
   "cell_type": "code",
   "execution_count": 32,
   "metadata": {},
   "outputs": [
    {
     "data": {
      "text/html": [
       "<div>\n",
       "<style scoped>\n",
       "    .dataframe tbody tr th:only-of-type {\n",
       "        vertical-align: middle;\n",
       "    }\n",
       "\n",
       "    .dataframe tbody tr th {\n",
       "        vertical-align: top;\n",
       "    }\n",
       "\n",
       "    .dataframe thead th {\n",
       "        text-align: right;\n",
       "    }\n",
       "</style>\n",
       "<table border=\"1\" class=\"dataframe\">\n",
       "  <thead>\n",
       "    <tr style=\"text-align: right;\">\n",
       "      <th></th>\n",
       "      <th>Hemisphere_South</th>\n",
       "      <th>Country</th>\n",
       "    </tr>\n",
       "  </thead>\n",
       "  <tbody>\n",
       "    <tr>\n",
       "      <th>0</th>\n",
       "      <td>False</td>\n",
       "      <td>Usa</td>\n",
       "    </tr>\n",
       "    <tr>\n",
       "      <th>1</th>\n",
       "      <td>False</td>\n",
       "      <td>Usa</td>\n",
       "    </tr>\n",
       "    <tr>\n",
       "      <th>2</th>\n",
       "      <td>False</td>\n",
       "      <td>Usa</td>\n",
       "    </tr>\n",
       "    <tr>\n",
       "      <th>3</th>\n",
       "      <td>True</td>\n",
       "      <td>Australia</td>\n",
       "    </tr>\n",
       "    <tr>\n",
       "      <th>4</th>\n",
       "      <td>False</td>\n",
       "      <td>Mexico</td>\n",
       "    </tr>\n",
       "    <tr>\n",
       "      <th>5</th>\n",
       "      <td>True</td>\n",
       "      <td>Australia</td>\n",
       "    </tr>\n",
       "    <tr>\n",
       "      <th>6</th>\n",
       "      <td>True</td>\n",
       "      <td>Brazil</td>\n",
       "    </tr>\n",
       "    <tr>\n",
       "      <th>7</th>\n",
       "      <td>False</td>\n",
       "      <td>Usa</td>\n",
       "    </tr>\n",
       "    <tr>\n",
       "      <th>8</th>\n",
       "      <td>False</td>\n",
       "      <td>Usa</td>\n",
       "    </tr>\n",
       "    <tr>\n",
       "      <th>9</th>\n",
       "      <td>False</td>\n",
       "      <td>Usa</td>\n",
       "    </tr>\n",
       "  </tbody>\n",
       "</table>\n",
       "</div>"
      ],
      "text/plain": [
       "   Hemisphere_South    Country\n",
       "0             False        Usa\n",
       "1             False        Usa\n",
       "2             False        Usa\n",
       "3              True  Australia\n",
       "4             False     Mexico\n",
       "5              True  Australia\n",
       "6              True     Brazil\n",
       "7             False        Usa\n",
       "8             False        Usa\n",
       "9             False        Usa"
      ]
     },
     "execution_count": 32,
     "metadata": {},
     "output_type": "execute_result"
    }
   ],
   "source": [
    "# Creo nuevo columna de \"Hemisphere_South\" para categorizar los paises por hemisferio y poder categorizar las seasons\n",
    "df_clean[\"Country\"].value_counts().head(60)\n",
    "hemisphere_south=[\"Australia\",\"South Africa\",\"New Zealand\",\"Papua New Guinea\",\"Brazil\",\"Reunion\",\"Fiji\",\"New Caledonia\",\"Mozambique\",\"French Polynesia\",\"Solomon Islands\",\"Indonesia\",\"Tonga\",\"Vanuatu\",\"Kenya\",\"Chile\",\"Ecuador\",\"Seychelles\",\"Mauritius\"]\n",
    "df_clean[\"Hemisphere_South\"]=np.where(df_clean[\"Country\"].isin(hemisphere_south),True,False)\n",
    "df_clean[[\"Hemisphere_South\",\"Country\"]].head(10)"
   ]
  },
  {
   "cell_type": "code",
   "execution_count": 33,
   "metadata": {},
   "outputs": [
    {
     "data": {
      "text/html": [
       "<div>\n",
       "<style scoped>\n",
       "    .dataframe tbody tr th:only-of-type {\n",
       "        vertical-align: middle;\n",
       "    }\n",
       "\n",
       "    .dataframe tbody tr th {\n",
       "        vertical-align: top;\n",
       "    }\n",
       "\n",
       "    .dataframe thead th {\n",
       "        text-align: right;\n",
       "    }\n",
       "</style>\n",
       "<table border=\"1\" class=\"dataframe\">\n",
       "  <thead>\n",
       "    <tr style=\"text-align: right;\">\n",
       "      <th></th>\n",
       "      <th>Seasonality</th>\n",
       "      <th>Country</th>\n",
       "      <th>Month</th>\n",
       "    </tr>\n",
       "  </thead>\n",
       "  <tbody>\n",
       "    <tr>\n",
       "      <th>0</th>\n",
       "      <td>Summer</td>\n",
       "      <td>Usa</td>\n",
       "      <td>06</td>\n",
       "    </tr>\n",
       "    <tr>\n",
       "      <th>1</th>\n",
       "      <td>Summer</td>\n",
       "      <td>Usa</td>\n",
       "      <td>06</td>\n",
       "    </tr>\n",
       "    <tr>\n",
       "      <th>2</th>\n",
       "      <td>Summer</td>\n",
       "      <td>Usa</td>\n",
       "      <td>06</td>\n",
       "    </tr>\n",
       "    <tr>\n",
       "      <th>3</th>\n",
       "      <td>Winter</td>\n",
       "      <td>Australia</td>\n",
       "      <td>06</td>\n",
       "    </tr>\n",
       "    <tr>\n",
       "      <th>4</th>\n",
       "      <td>Summer</td>\n",
       "      <td>Mexico</td>\n",
       "      <td>06</td>\n",
       "    </tr>\n",
       "    <tr>\n",
       "      <th>5</th>\n",
       "      <td>Winter</td>\n",
       "      <td>Australia</td>\n",
       "      <td>06</td>\n",
       "    </tr>\n",
       "    <tr>\n",
       "      <th>6</th>\n",
       "      <td>Winter</td>\n",
       "      <td>Brazil</td>\n",
       "      <td>06</td>\n",
       "    </tr>\n",
       "    <tr>\n",
       "      <th>7</th>\n",
       "      <td>Spring</td>\n",
       "      <td>Usa</td>\n",
       "      <td>05</td>\n",
       "    </tr>\n",
       "    <tr>\n",
       "      <th>8</th>\n",
       "      <td>Spring</td>\n",
       "      <td>Usa</td>\n",
       "      <td>05</td>\n",
       "    </tr>\n",
       "    <tr>\n",
       "      <th>9</th>\n",
       "      <td>Spring</td>\n",
       "      <td>Usa</td>\n",
       "      <td>05</td>\n",
       "    </tr>\n",
       "  </tbody>\n",
       "</table>\n",
       "</div>"
      ],
      "text/plain": [
       "  Seasonality    Country Month\n",
       "0      Summer        Usa    06\n",
       "1      Summer        Usa    06\n",
       "2      Summer        Usa    06\n",
       "3      Winter  Australia    06\n",
       "4      Summer     Mexico    06\n",
       "5      Winter  Australia    06\n",
       "6      Winter     Brazil    06\n",
       "7      Spring        Usa    05\n",
       "8      Spring        Usa    05\n",
       "9      Spring        Usa    05"
      ]
     },
     "execution_count": 33,
     "metadata": {},
     "output_type": "execute_result"
    }
   ],
   "source": [
    "# Creo nuevo columna de \"Seasonality\" para categorizar el tipo de season por mes (por hemisferio)\n",
    "seasons_month = {\"01\":{True:\"Summer\",False:\"Winter\"},\n",
    "                 \"02\":{True:\"Summer\",False:\"Winter\"},\n",
    "                 \"03\":{True:\"Autumn\",False:\"Spring\"},\n",
    "                 \"04\":{True:\"Autumn\",False:\"Spring\"},\n",
    "                 \"05\":{True:\"Autumn\",False:\"Spring\"},\n",
    "                 \"06\":{True:\"Winter\",False:\"Summer\"},\n",
    "                 \"07\":{True:\"Winter\",False:\"Summer\"},\n",
    "                 \"08\":{True:\"Winter\",False:\"Summer\"},\n",
    "                 \"09\":{True:\"Spring\",False:\"Autumn\"},\n",
    "                 \"10\":{True:\"Spring\",False:\"Autumn\"},\n",
    "                 \"11\":{True:\"Spring\",False:\"Autumn\"},\n",
    "                 \"12\":{True:\"Summer\",False:\"Winter\"}}\n",
    "\n",
    "def seasonality(hemi,month):\n",
    "    return seasons_month.get(month,{}).get(hemi,\"Unknown\") # hay rows que no coinciden con los elementos del diccionario\n",
    "\n",
    "df_clean[\"Seasonality\"]=df_clean[[\"Hemisphere_South\",\"Month\"]].apply(lambda row:seasonality(row[\"Hemisphere_South\"],row[\"Month\"]),axis=1)\n",
    "\n",
    "df_clean[[\"Seasonality\",\"Country\",\"Month\"]].head(10)"
   ]
  },
  {
   "cell_type": "code",
   "execution_count": 34,
   "metadata": {},
   "outputs": [],
   "source": [
    "#Limpio columna \"Fatal (Y/N) para quede categorizada\n",
    "df_clean[\"Fatal (Y/N)\"].value_counts()\n",
    "df_clean[\"Fatal (Y/N)\"]= df_clean[\"Fatal (Y/N)\"].str.replace(\" N\",\"N\")\n",
    "df_clean[\"Fatal (Y/N)\"]= df_clean[\"Fatal (Y/N)\"].str.replace(\"2017\",\"Unknown\")\n",
    "df_clean[\"Fatal (Y/N)\"]= df_clean[\"Fatal (Y/N)\"].str.replace(\"M\",\"Unknown\")\n",
    "df_clean[\"Fatal (Y/N)\"]= df_clean[\"Fatal (Y/N)\"].str.replace(\"UNKNOWN\",\"Unknown\")"
   ]
  },
  {
   "cell_type": "code",
   "execution_count": 35,
   "metadata": {},
   "outputs": [
    {
     "data": {
      "text/plain": [
       "N          3899\n",
       "Y          1054\n",
       "Unknown     390\n",
       "Name: Fatal (Y/N), dtype: int64"
      ]
     },
     "execution_count": 35,
     "metadata": {},
     "output_type": "execute_result"
    }
   ],
   "source": [
    "df_clean[\"Fatal (Y/N)\"].value_counts()"
   ]
  },
  {
   "cell_type": "code",
   "execution_count": 36,
   "metadata": {},
   "outputs": [
    {
     "data": {
      "text/plain": [
       "Injury                       2997\n",
       "Fatal                        1054\n",
       "Survived                       52\n",
       "Lacerations to foot            19\n",
       "Lacerations to left foot       18\n",
       "Lacerations to right foot      18\n",
       "No details                     13\n",
       "Laceration to left foot        10\n",
       "Thigh lacerated                10\n",
       "Right foot lacerated            9\n",
       "Name: Injury, dtype: int64"
      ]
     },
     "execution_count": 36,
     "metadata": {},
     "output_type": "execute_result"
    }
   ],
   "source": [
    "#Limpio columna Injury\n",
    "df_clean[\"Injury\"]= df_clean[\"Injury\"].str.replace(\"FATAL\",\"Fatal\")\n",
    "df_clean[\"Injury\"]= df_clean[\"Injury\"].str.replace(\"Foot bitten\",\"Injury\")\n",
    "df_clean[\"Injury\"]= df_clean[\"Injury\"].str.replace(\"Leg bitten\",\"Injury\")\n",
    "df_clean.loc[df_clean[\"Injury\"].str.contains(\"atal\"),\"Injury\"]=\"Fatal\"\n",
    "df_clean.loc[df_clean[\"Injury\"].str.contains(\"No injury\"),\"Injury\"]=\"No injury\"\n",
    "df_clean.loc[df_clean[\"Injury\"].str.contains(\"Foot\"),\"Injury\"]=\"Injury\"\n",
    "df_clean.loc[df_clean[\"Injury\"].str.contains(\"arm\"),\"Injury\"]=\"Injury\"\n",
    "df_clean.loc[df_clean[\"Injury\"].str.contains(\"leg\"),\"Injury\"]=\"Injury\"\n",
    "df_clean.loc[df_clean[\"Injury\"].str.contains(\"hand\"),\"Injury\"]=\"Injury\"\n",
    "df_clean.loc[df_clean[\"Injury\"].str.contains(\"bit\"),\"Injury\"]=\"Injury\"\n",
    "df_clean.loc[df_clean[\"Injury\"].str.contains(\"njur\"),\"Injury\"]=\"Injury\"\n",
    "df_clean[\"Injury\"].value_counts().head(10)"
   ]
  },
  {
   "cell_type": "code",
   "execution_count": 37,
   "metadata": {},
   "outputs": [],
   "source": [
    "#Limpio columna \"Age\"\n",
    "df_clean[\"Age\"].value_counts()\n",
    "#Paso todo lo que no es digito a digito\n",
    "df_clean[\"Age\"]= df_clean[\"Age\"].str.replace(\"teen\",\"15\")\n",
    "df_clean[\"Age\"]= df_clean[\"Age\"].str.replace(\"Teen\",\"15\")\n",
    "df_clean[\"Age\"]= df_clean[\"Age\"].str.replace(\"mid-30s\",\"30\")\n",
    "df_clean[\"Age\"]= df_clean[\"Age\"].str.replace(\"mid-20s\",\"20\")\n",
    "df_clean[\"Age\"]= df_clean[\"Age\"].str.replace(\"adult\",\"45\")\n",
    "df_clean[\"Age\"]= df_clean[\"Age\"].str.replace(\"(adult)\",\"45\")\n",
    "df_clean[\"Age\"]= df_clean[\"Age\"].str.replace(\"young\",\"22\")\n",
    "df_clean[\"Age\"]= df_clean[\"Age\"].str.replace(\"(young)\",\"22\")\n",
    "df_clean[\"Age\"]= df_clean[\"Age\"].str.replace(\"Adult\",\"45\")\n",
    "df_clean[\"Age\"]= df_clean[\"Age\"].str.replace(\">50\",\"50\")\n",
    "df_clean[\"Age\"]= df_clean[\"Age\"].str.replace(\"Elderly\",\"70\")"
   ]
  },
  {
   "cell_type": "code",
   "execution_count": 38,
   "metadata": {},
   "outputs": [
    {
     "data": {
      "text/plain": [
       "0     1936\n",
       "17     151\n",
       "15     151\n",
       "18     149\n",
       "19     140\n",
       "16     136\n",
       "20     136\n",
       "21     118\n",
       "22     115\n",
       "25     107\n",
       "Name: Age, dtype: int64"
      ]
     },
     "execution_count": 38,
     "metadata": {},
     "output_type": "execute_result"
    }
   ],
   "source": [
    "df_clean[\"Age\"].value_counts().head(10)"
   ]
  },
  {
   "cell_type": "code",
   "execution_count": 39,
   "metadata": {},
   "outputs": [
    {
     "data": {
      "text/plain": [
       "0     1945\n",
       "17     153\n",
       "15     152\n",
       "18     152\n",
       "20     145\n",
       "19     141\n",
       "16     137\n",
       "21     121\n",
       "22     116\n",
       "25     109\n",
       "Name: Age, dtype: int64"
      ]
     },
     "execution_count": 39,
     "metadata": {},
     "output_type": "execute_result"
    }
   ],
   "source": [
    "df_clean[df_clean[\"Age\"].str.match('^(?![0,1,2,3,4,5,6,7,8,9])')] #Busco todas las rowss en las que no aparezcan digitos\n",
    "df_clean[\"Age\"]=df_clean[\"Age\"].str.extract('(\\d+)', expand=False) #Elimino todos los elementos que no tengan digito\n",
    "df_clean[\"Age\"]= df_clean[\"Age\"].fillna(\"0\")# al generarse nuevas lineas nulas, las reemplazo por 0\n",
    "df_clean[\"Age\"].value_counts().head(10)"
   ]
  },
  {
   "cell_type": "code",
   "execution_count": 40,
   "metadata": {},
   "outputs": [
    {
     "data": {
      "text/plain": [
       "Unknown    2063\n",
       "Young      1290\n",
       "Teens      1099\n",
       "Adults      837\n",
       "Elderly      54\n",
       "Name: Age Category, dtype: int64"
      ]
     },
     "execution_count": 40,
     "metadata": {},
     "output_type": "execute_result"
    }
   ],
   "source": [
    "df_clean[\"Age\"]=df_clean[\"Age\"].astype(\"int\") # convierto Age en int para crear nueva categoria \"Age Category\"\n",
    "\n",
    "Age_category=[]\n",
    "for x in df_clean[\"Age\"]:\n",
    "    if x >= 65:\n",
    "        Age_category.append(\"Elderly\")\n",
    "    elif x >= 35:\n",
    "        Age_category.append(\"Adults\")\n",
    "    elif x >= 20:\n",
    "        Age_category.append(\"Young\")\n",
    "    elif x >= 10:\n",
    "        Age_category.append(\"Teens\")\n",
    "    elif 0 > x < 10:\n",
    "        Age_category.append(\"Children\")\n",
    "    else:\n",
    "        Age_category.append(\"Unknown\")\n",
    "\n",
    "        \n",
    "df_clean[\"Age Category\"]=Age_category    \n",
    "df_clean[\"Age Category\"].value_counts().head(10)"
   ]
  },
  {
   "cell_type": "code",
   "execution_count": 41,
   "metadata": {},
   "outputs": [
    {
     "data": {
      "text/plain": [
       "M          4536\n",
       "F           587\n",
       "Unknown     220\n",
       "Name: Sex, dtype: int64"
      ]
     },
     "execution_count": 41,
     "metadata": {},
     "output_type": "execute_result"
    }
   ],
   "source": [
    "#Categorizamos columna Sex\n",
    "df_clean[\"Sex\"]= df_clean[\"Sex\"].str.replace(\".\",\"Unknown\")\n",
    "df_clean[\"Sex\"]= df_clean[\"Sex\"].str.replace(\"lli\",\"Unknown\")\n",
    "df_clean[\"Sex\"]= df_clean[\"Sex\"].str.replace(\"N\",\"Unknown\")\n",
    "df_clean[\"Sex\"]= df_clean[\"Sex\"].str.replace(\"M \",\"M\")\n",
    "df_clean[\"Sex\"].value_counts()"
   ]
  },
  {
   "cell_type": "code",
   "execution_count": 42,
   "metadata": {},
   "outputs": [],
   "source": [
    "#Elimino duplicados\n",
    "df_clean= df_clean.drop_duplicates()"
   ]
  },
  {
   "cell_type": "code",
   "execution_count": 43,
   "metadata": {},
   "outputs": [
    {
     "data": {
      "text/plain": [
       "Index(['Case Number', 'Date', 'Year', 'Type', 'Country', 'Area', 'Location',\n",
       "       'Activity', 'Name', 'Sex', 'Age', 'Injury', 'Fatal (Y/N)', 'Time',\n",
       "       'Species', 'Day', 'Month', 'Year2', 'Decade', 'Hemisphere_South',\n",
       "       'Seasonality', 'Age Category'],\n",
       "      dtype='object')"
      ]
     },
     "execution_count": 43,
     "metadata": {},
     "output_type": "execute_result"
    }
   ],
   "source": [
    "#Verifico columnas restantes\n",
    "df_clean.columns"
   ]
  },
  {
   "cell_type": "code",
   "execution_count": 44,
   "metadata": {},
   "outputs": [],
   "source": [
    "#Ordeno orden columnas\n",
    "column_order = [\"Case Number\",\"Date\",\"Year\",\"Time\",\"Country\",\"Area\",\"Location\",\"Type\",\"Activity\",\"Injury\",\"Fatal (Y/N)\",\"Species\",\"Name\",\"Sex\",\"Age\",\"Day\",\"Month\",\"Year2\",\"Decade\",\"Seasonality\",\"Hemisphere_South\",\"Age Category\"]\n",
    "df_clean=df_clean[column_order]"
   ]
  },
  {
   "cell_type": "code",
   "execution_count": 51,
   "metadata": {},
   "outputs": [],
   "source": [
    "df_analysis = df_clean[[\"Case Number\",\"Date\",\"Year\",\"Time\",\"Country\",\"Area\",\"Location\",\"Type\",\"Activity\",\"Injury\",\"Fatal (Y/N)\",\"Species\",\"Name\",\"Sex\",\"Age\",\"Day\",\"Month\",\"Year2\",\"Decade\",\"Seasonality\",\"Hemisphere_South\",\"Age Category\"]]"
   ]
  },
  {
   "cell_type": "code",
   "execution_count": 55,
   "metadata": {},
   "outputs": [
    {
     "data": {
      "text/plain": [
       "(5341, 22)"
      ]
     },
     "execution_count": 55,
     "metadata": {},
     "output_type": "execute_result"
    }
   ],
   "source": [
    "df_analysis.shape"
   ]
  },
  {
   "cell_type": "code",
   "execution_count": 56,
   "metadata": {},
   "outputs": [],
   "source": [
    "df_analysis.to_csv(\"src/attacks_limpio.csv\")"
   ]
  },
  {
   "cell_type": "code",
   "execution_count": null,
   "metadata": {},
   "outputs": [],
   "source": []
  }
 ],
 "metadata": {
  "kernelspec": {
   "display_name": "Python 3",
   "language": "python",
   "name": "python3"
  },
  "language_info": {
   "codemirror_mode": {
    "name": "ipython",
    "version": 3
   },
   "file_extension": ".py",
   "mimetype": "text/x-python",
   "name": "python",
   "nbconvert_exporter": "python",
   "pygments_lexer": "ipython3",
   "version": "3.7.7"
  }
 },
 "nbformat": 4,
 "nbformat_minor": 4
}
